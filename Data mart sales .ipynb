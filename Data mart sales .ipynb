{
 "cells": [
  {
   "cell_type": "code",
   "execution_count": 1,
   "metadata": {},
   "outputs": [],
   "source": [
    "import pandas as pd\n",
    "import numpy as np\n",
    "import matplotlib.pyplot as plt\n",
    "import seaborn as sns\n",
    "import warnings\n",
    "warnings.filterwarnings('ignore')"
   ]
  },
  {
   "cell_type": "code",
   "execution_count": 2,
   "metadata": {},
   "outputs": [],
   "source": [
    "url = \"https://raw.githubusercontent.com/dsrscientist/bigdatamart_rep/master/bigdatamart_Test.csv\"\n",
    "df_test = pd.read_csv(url)\n",
    "url_2 = \"https://raw.githubusercontent.com/dsrscientist/bigdatamart_rep/master/bigdatamart_Train.csv\"\n",
    "df_train = pd.read_csv(url_2)"
   ]
  },
  {
   "cell_type": "code",
   "execution_count": 3,
   "metadata": {},
   "outputs": [
    {
     "name": "stdout",
     "output_type": "stream",
     "text": [
      "(8523, 12)\n",
      "(5681, 11)\n"
     ]
    }
   ],
   "source": [
    "print(df_train.shape)\n",
    "print(df_test.shape)"
   ]
  },
  {
   "cell_type": "code",
   "execution_count": 4,
   "metadata": {},
   "outputs": [
    {
     "name": "stdout",
     "output_type": "stream",
     "text": [
      "<class 'pandas.core.frame.DataFrame'>\n",
      "RangeIndex: 8523 entries, 0 to 8522\n",
      "Data columns (total 12 columns):\n",
      " #   Column                     Non-Null Count  Dtype  \n",
      "---  ------                     --------------  -----  \n",
      " 0   Item_Identifier            8523 non-null   object \n",
      " 1   Item_Weight                7060 non-null   float64\n",
      " 2   Item_Fat_Content           8523 non-null   object \n",
      " 3   Item_Visibility            8523 non-null   float64\n",
      " 4   Item_Type                  8523 non-null   object \n",
      " 5   Item_MRP                   8523 non-null   float64\n",
      " 6   Outlet_Identifier          8523 non-null   object \n",
      " 7   Outlet_Establishment_Year  8523 non-null   int64  \n",
      " 8   Outlet_Size                6113 non-null   object \n",
      " 9   Outlet_Location_Type       8523 non-null   object \n",
      " 10  Outlet_Type                8523 non-null   object \n",
      " 11  Item_Outlet_Sales          8523 non-null   float64\n",
      "dtypes: float64(4), int64(1), object(7)\n",
      "memory usage: 799.2+ KB\n"
     ]
    }
   ],
   "source": [
    "df_train.info()"
   ]
  },
  {
   "cell_type": "code",
   "execution_count": 5,
   "metadata": {},
   "outputs": [
    {
     "data": {
      "text/html": [
       "<div>\n",
       "<style scoped>\n",
       "    .dataframe tbody tr th:only-of-type {\n",
       "        vertical-align: middle;\n",
       "    }\n",
       "\n",
       "    .dataframe tbody tr th {\n",
       "        vertical-align: top;\n",
       "    }\n",
       "\n",
       "    .dataframe thead th {\n",
       "        text-align: right;\n",
       "    }\n",
       "</style>\n",
       "<table border=\"1\" class=\"dataframe\">\n",
       "  <thead>\n",
       "    <tr style=\"text-align: right;\">\n",
       "      <th></th>\n",
       "      <th>Item_Weight</th>\n",
       "      <th>Item_Visibility</th>\n",
       "      <th>Item_MRP</th>\n",
       "      <th>Outlet_Establishment_Year</th>\n",
       "      <th>Item_Outlet_Sales</th>\n",
       "    </tr>\n",
       "  </thead>\n",
       "  <tbody>\n",
       "    <tr>\n",
       "      <th>count</th>\n",
       "      <td>7060.000000</td>\n",
       "      <td>8523.000000</td>\n",
       "      <td>8523.000000</td>\n",
       "      <td>8523.000000</td>\n",
       "      <td>8523.000000</td>\n",
       "    </tr>\n",
       "    <tr>\n",
       "      <th>mean</th>\n",
       "      <td>12.857645</td>\n",
       "      <td>0.066132</td>\n",
       "      <td>140.992782</td>\n",
       "      <td>1997.831867</td>\n",
       "      <td>2181.288914</td>\n",
       "    </tr>\n",
       "    <tr>\n",
       "      <th>std</th>\n",
       "      <td>4.643456</td>\n",
       "      <td>0.051598</td>\n",
       "      <td>62.275067</td>\n",
       "      <td>8.371760</td>\n",
       "      <td>1706.499616</td>\n",
       "    </tr>\n",
       "    <tr>\n",
       "      <th>min</th>\n",
       "      <td>4.555000</td>\n",
       "      <td>0.000000</td>\n",
       "      <td>31.290000</td>\n",
       "      <td>1985.000000</td>\n",
       "      <td>33.290000</td>\n",
       "    </tr>\n",
       "    <tr>\n",
       "      <th>25%</th>\n",
       "      <td>8.773750</td>\n",
       "      <td>0.026989</td>\n",
       "      <td>93.826500</td>\n",
       "      <td>1987.000000</td>\n",
       "      <td>834.247400</td>\n",
       "    </tr>\n",
       "    <tr>\n",
       "      <th>50%</th>\n",
       "      <td>12.600000</td>\n",
       "      <td>0.053931</td>\n",
       "      <td>143.012800</td>\n",
       "      <td>1999.000000</td>\n",
       "      <td>1794.331000</td>\n",
       "    </tr>\n",
       "    <tr>\n",
       "      <th>75%</th>\n",
       "      <td>16.850000</td>\n",
       "      <td>0.094585</td>\n",
       "      <td>185.643700</td>\n",
       "      <td>2004.000000</td>\n",
       "      <td>3101.296400</td>\n",
       "    </tr>\n",
       "    <tr>\n",
       "      <th>max</th>\n",
       "      <td>21.350000</td>\n",
       "      <td>0.328391</td>\n",
       "      <td>266.888400</td>\n",
       "      <td>2009.000000</td>\n",
       "      <td>13086.964800</td>\n",
       "    </tr>\n",
       "  </tbody>\n",
       "</table>\n",
       "</div>"
      ],
      "text/plain": [
       "       Item_Weight  Item_Visibility     Item_MRP  Outlet_Establishment_Year  \\\n",
       "count  7060.000000      8523.000000  8523.000000                8523.000000   \n",
       "mean     12.857645         0.066132   140.992782                1997.831867   \n",
       "std       4.643456         0.051598    62.275067                   8.371760   \n",
       "min       4.555000         0.000000    31.290000                1985.000000   \n",
       "25%       8.773750         0.026989    93.826500                1987.000000   \n",
       "50%      12.600000         0.053931   143.012800                1999.000000   \n",
       "75%      16.850000         0.094585   185.643700                2004.000000   \n",
       "max      21.350000         0.328391   266.888400                2009.000000   \n",
       "\n",
       "       Item_Outlet_Sales  \n",
       "count        8523.000000  \n",
       "mean         2181.288914  \n",
       "std          1706.499616  \n",
       "min            33.290000  \n",
       "25%           834.247400  \n",
       "50%          1794.331000  \n",
       "75%          3101.296400  \n",
       "max         13086.964800  "
      ]
     },
     "execution_count": 5,
     "metadata": {},
     "output_type": "execute_result"
    }
   ],
   "source": [
    "df_train.describe()"
   ]
  },
  {
   "cell_type": "markdown",
   "metadata": {},
   "source": [
    "1. Year : 1985 - 2009\n",
    "2. Item weight : 4.555 - 21.35\n",
    "3. Item visibility : 0 - 1"
   ]
  },
  {
   "cell_type": "code",
   "execution_count": 6,
   "metadata": {},
   "outputs": [
    {
     "data": {
      "image/png": "[encoded data removed]",
      "text/plain": [
       "<Figure size 720x720 with 1 Axes>"
      ]
     },
     "metadata": {
      "needs_background": "light"
     },
     "output_type": "display_data"
    }
   ],
   "source": [
    "plt.figure(figsize=(10,10))\n",
    "ax = sns.countplot(x=df_train[\"Item_Type\"])\n",
    "ax.set_xticklabels(ax.get_xticklabels(), rotation=40, ha=\"right\")\n",
    "plt.show()"
   ]
  },
  {
   "cell_type": "code",
   "execution_count": 7,
   "metadata": {},
   "outputs": [
    {
     "data": {
      "text/plain": [
       "Low Fat    5089\n",
       "Regular    2889\n",
       "LF          316\n",
       "reg         117\n",
       "low fat     112\n",
       "Name: Item_Fat_Content, dtype: int64"
      ]
     },
     "execution_count": 7,
     "metadata": {},
     "output_type": "execute_result"
    }
   ],
   "source": [
    "df_train[\"Item_Fat_Content\"].value_counts()"
   ]
  },
  {
   "cell_type": "code",
   "execution_count": 8,
   "metadata": {},
   "outputs": [
    {
     "data": {
      "text/plain": [
       "Low Fat    3396\n",
       "Regular    1935\n",
       "LF          206\n",
       "reg          78\n",
       "low fat      66\n",
       "Name: Item_Fat_Content, dtype: int64"
      ]
     },
     "execution_count": 8,
     "metadata": {},
     "output_type": "execute_result"
    }
   ],
   "source": [
    "df_test[\"Item_Fat_Content\"].value_counts()"
   ]
  },
  {
   "cell_type": "markdown",
   "metadata": {},
   "source": [
    "#### \"LF\", \"low fat\" are the same as \"Low Fat\""
   ]
  },
  {
   "cell_type": "code",
   "execution_count": 9,
   "metadata": {
    "scrolled": false
   },
   "outputs": [
    {
     "data": {
      "text/plain": [
       "OUT027    935\n",
       "OUT013    932\n",
       "OUT046    930\n",
       "OUT049    930\n",
       "OUT035    930\n",
       "OUT045    929\n",
       "OUT018    928\n",
       "OUT017    926\n",
       "OUT010    555\n",
       "OUT019    528\n",
       "Name: Outlet_Identifier, dtype: int64"
      ]
     },
     "execution_count": 9,
     "metadata": {},
     "output_type": "execute_result"
    }
   ],
   "source": [
    "df_train[\"Outlet_Identifier\"].value_counts()"
   ]
  },
  {
   "cell_type": "markdown",
   "metadata": {},
   "source": [
    "#### There are 10 Outlets in total"
   ]
  },
  {
   "cell_type": "code",
   "execution_count": 10,
   "metadata": {},
   "outputs": [
    {
     "data": {
      "text/plain": [
       "5     395\n",
       "6     383\n",
       "7     253\n",
       "4     234\n",
       "3     113\n",
       "8     110\n",
       "2      35\n",
       "9      25\n",
       "1       9\n",
       "10      2\n",
       "Name: Item_Identifier, dtype: int64"
      ]
     },
     "execution_count": 10,
     "metadata": {},
     "output_type": "execute_result"
    }
   ],
   "source": [
    "b = pd.DataFrame(df_train[\"Item_Identifier\"].value_counts())\n",
    "b.reset_index(level=0,inplace=True)\n",
    "b['Item_Identifier'].value_counts()\n",
    "# b"
   ]
  },
  {
   "cell_type": "markdown",
   "metadata": {},
   "source": [
    "#### Only 2 items are present in all 10 outlets"
   ]
  },
  {
   "cell_type": "code",
   "execution_count": 11,
   "metadata": {
    "scrolled": false
   },
   "outputs": [
    {
     "data": {
      "text/plain": [
       "Item_Identifier                 0\n",
       "Item_Weight                  1463\n",
       "Item_Fat_Content                0\n",
       "Item_Visibility                 0\n",
       "Item_Type                       0\n",
       "Item_MRP                        0\n",
       "Outlet_Identifier               0\n",
       "Outlet_Establishment_Year       0\n",
       "Outlet_Size                  2410\n",
       "Outlet_Location_Type            0\n",
       "Outlet_Type                     0\n",
       "Item_Outlet_Sales               0\n",
       "dtype: int64"
      ]
     },
     "execution_count": 11,
     "metadata": {},
     "output_type": "execute_result"
    }
   ],
   "source": [
    "df_train.isnull().sum()"
   ]
  },
  {
   "cell_type": "code",
   "execution_count": 12,
   "metadata": {
    "scrolled": false
   },
   "outputs": [
    {
     "data": {
      "text/plain": [
       "Item_Identifier                 0\n",
       "Item_Weight                   976\n",
       "Item_Fat_Content                0\n",
       "Item_Visibility                 0\n",
       "Item_Type                       0\n",
       "Item_MRP                        0\n",
       "Outlet_Identifier               0\n",
       "Outlet_Establishment_Year       0\n",
       "Outlet_Size                  1606\n",
       "Outlet_Location_Type            0\n",
       "Outlet_Type                     0\n",
       "dtype: int64"
      ]
     },
     "execution_count": 12,
     "metadata": {},
     "output_type": "execute_result"
    }
   ],
   "source": [
    "df_test.isnull().sum()"
   ]
  },
  {
   "cell_type": "markdown",
   "metadata": {},
   "source": [
    "#### Null values in Item_Weight can be filled by assigning the mean weight of the item in other stores"
   ]
  },
  {
   "cell_type": "code",
   "execution_count": 13,
   "metadata": {},
   "outputs": [],
   "source": [
    "df_train[\"Item_Weight\"] = df_train.groupby(\"Item_Identifier\")[\"Item_Weight\"].transform(lambda x: x.fillna(x.mean()))\n",
    "df_test[\"Item_Weight\"] = df_test.groupby(\"Item_Identifier\")[\"Item_Weight\"].transform(lambda x: x.fillna(x.mean()))"
   ]
  },
  {
   "cell_type": "code",
   "execution_count": 14,
   "metadata": {
    "scrolled": false
   },
   "outputs": [
    {
     "data": {
      "text/html": [
       "<div>\n",
       "<style scoped>\n",
       "    .dataframe tbody tr th:only-of-type {\n",
       "        vertical-align: middle;\n",
       "    }\n",
       "\n",
       "    .dataframe tbody tr th {\n",
       "        vertical-align: top;\n",
       "    }\n",
       "\n",
       "    .dataframe thead th {\n",
       "        text-align: right;\n",
       "    }\n",
       "</style>\n",
       "<table border=\"1\" class=\"dataframe\">\n",
       "  <thead>\n",
       "    <tr style=\"text-align: right;\">\n",
       "      <th></th>\n",
       "      <th>Item_Identifier</th>\n",
       "      <th>Item_Weight</th>\n",
       "      <th>Item_Fat_Content</th>\n",
       "      <th>Item_Visibility</th>\n",
       "      <th>Item_Type</th>\n",
       "      <th>Item_MRP</th>\n",
       "      <th>Outlet_Identifier</th>\n",
       "      <th>Outlet_Establishment_Year</th>\n",
       "      <th>Outlet_Size</th>\n",
       "      <th>Outlet_Location_Type</th>\n",
       "      <th>Outlet_Type</th>\n",
       "      <th>Item_Outlet_Sales</th>\n",
       "    </tr>\n",
       "  </thead>\n",
       "  <tbody>\n",
       "    <tr>\n",
       "      <th>927</th>\n",
       "      <td>FDN52</td>\n",
       "      <td>NaN</td>\n",
       "      <td>Regular</td>\n",
       "      <td>0.130933</td>\n",
       "      <td>Frozen Foods</td>\n",
       "      <td>86.9198</td>\n",
       "      <td>OUT027</td>\n",
       "      <td>1985</td>\n",
       "      <td>Medium</td>\n",
       "      <td>Tier 3</td>\n",
       "      <td>Supermarket Type3</td>\n",
       "      <td>1569.9564</td>\n",
       "    </tr>\n",
       "    <tr>\n",
       "      <th>1922</th>\n",
       "      <td>FDK57</td>\n",
       "      <td>NaN</td>\n",
       "      <td>Low Fat</td>\n",
       "      <td>0.079904</td>\n",
       "      <td>Snack Foods</td>\n",
       "      <td>120.0440</td>\n",
       "      <td>OUT027</td>\n",
       "      <td>1985</td>\n",
       "      <td>Medium</td>\n",
       "      <td>Tier 3</td>\n",
       "      <td>Supermarket Type3</td>\n",
       "      <td>4434.2280</td>\n",
       "    </tr>\n",
       "    <tr>\n",
       "      <th>4187</th>\n",
       "      <td>FDE52</td>\n",
       "      <td>NaN</td>\n",
       "      <td>Regular</td>\n",
       "      <td>0.029742</td>\n",
       "      <td>Dairy</td>\n",
       "      <td>88.9514</td>\n",
       "      <td>OUT027</td>\n",
       "      <td>1985</td>\n",
       "      <td>Medium</td>\n",
       "      <td>Tier 3</td>\n",
       "      <td>Supermarket Type3</td>\n",
       "      <td>3453.5046</td>\n",
       "    </tr>\n",
       "    <tr>\n",
       "      <th>5022</th>\n",
       "      <td>FDQ60</td>\n",
       "      <td>NaN</td>\n",
       "      <td>Regular</td>\n",
       "      <td>0.191501</td>\n",
       "      <td>Baking Goods</td>\n",
       "      <td>121.2098</td>\n",
       "      <td>OUT019</td>\n",
       "      <td>1985</td>\n",
       "      <td>Small</td>\n",
       "      <td>Tier 1</td>\n",
       "      <td>Grocery Store</td>\n",
       "      <td>120.5098</td>\n",
       "    </tr>\n",
       "  </tbody>\n",
       "</table>\n",
       "</div>"
      ],
      "text/plain": [
       "     Item_Identifier  Item_Weight Item_Fat_Content  Item_Visibility  \\\n",
       "927            FDN52          NaN          Regular         0.130933   \n",
       "1922           FDK57          NaN          Low Fat         0.079904   \n",
       "4187           FDE52          NaN          Regular         0.029742   \n",
       "5022           FDQ60          NaN          Regular         0.191501   \n",
       "\n",
       "         Item_Type  Item_MRP Outlet_Identifier  Outlet_Establishment_Year  \\\n",
       "927   Frozen Foods   86.9198            OUT027                       1985   \n",
       "1922   Snack Foods  120.0440            OUT027                       1985   \n",
       "4187         Dairy   88.9514            OUT027                       1985   \n",
       "5022  Baking Goods  121.2098            OUT019                       1985   \n",
       "\n",
       "     Outlet_Size Outlet_Location_Type        Outlet_Type  Item_Outlet_Sales  \n",
       "927       Medium               Tier 3  Supermarket Type3          1569.9564  \n",
       "1922      Medium               Tier 3  Supermarket Type3          4434.2280  \n",
       "4187      Medium               Tier 3  Supermarket Type3          3453.5046  \n",
       "5022       Small               Tier 1      Grocery Store           120.5098  "
      ]
     },
     "execution_count": 14,
     "metadata": {},
     "output_type": "execute_result"
    }
   ],
   "source": [
    "df_train[df_train[\"Item_Weight\"].isnull()]"
   ]
  },
  {
   "cell_type": "markdown",
   "metadata": {},
   "source": [
    "#### Some items are present only in one store - Fill them with mean weight of the Item_Type"
   ]
  },
  {
   "cell_type": "code",
   "execution_count": 15,
   "metadata": {},
   "outputs": [],
   "source": [
    "df_train[\"Item_Weight\"] = df_train.groupby(\"Item_Type\")[\"Item_Weight\"].transform(lambda x: x.fillna(x.mean()))\n",
    "df_test[\"Item_Weight\"] = df_test.groupby(\"Item_Type\")[\"Item_Weight\"].transform(lambda x: x.fillna(x.mean()))"
   ]
  },
  {
   "cell_type": "markdown",
   "metadata": {},
   "source": [
    "#### Fill Outlet_Size with mode of the Outlet_Size having same Outlet_Type"
   ]
  },
  {
   "cell_type": "code",
   "execution_count": 16,
   "metadata": {},
   "outputs": [
    {
     "data": {
      "text/plain": [
       "{'Grocery Store': 'Small',\n",
       " 'Supermarket Type1': 'Small',\n",
       " 'Supermarket Type2': 'Medium',\n",
       " 'Supermarket Type3': 'Medium'}"
      ]
     },
     "execution_count": 16,
     "metadata": {},
     "output_type": "execute_result"
    }
   ],
   "source": [
    "from scipy.stats import mode\n",
    "\n",
    "dict_grp_outlet_type = df_train.groupby(\"Outlet_Type\")[\"Outlet_Size\"].agg(lambda x:mode(x).mode[0]).to_dict()\n",
    "dict_grp_outlet_type"
   ]
  },
  {
   "cell_type": "code",
   "execution_count": 17,
   "metadata": {},
   "outputs": [],
   "source": [
    "df_train['Outlet_Size'] = df_train.apply(lambda row: dict_grp_outlet_type[row['Outlet_Type']] if (row['Outlet_Size']not in [\"Medium\",\"Small\",\"High\"]) else row['Outlet_Size'],axis=1)\n",
    "df_test['Outlet_Size'] = df_test.apply(lambda row: dict_grp_outlet_type[row['Outlet_Type']] if (row['Outlet_Size']not in [\"Medium\",\"Small\",\"High\"]) else row['Outlet_Size'],axis=1)"
   ]
  },
  {
   "cell_type": "markdown",
   "metadata": {},
   "source": [
    "After filling all the null values, verify null values again"
   ]
  },
  {
   "cell_type": "code",
   "execution_count": 18,
   "metadata": {},
   "outputs": [
    {
     "data": {
      "text/plain": [
       "Item_Identifier              0\n",
       "Item_Weight                  0\n",
       "Item_Fat_Content             0\n",
       "Item_Visibility              0\n",
       "Item_Type                    0\n",
       "Item_MRP                     0\n",
       "Outlet_Identifier            0\n",
       "Outlet_Establishment_Year    0\n",
       "Outlet_Size                  0\n",
       "Outlet_Location_Type         0\n",
       "Outlet_Type                  0\n",
       "Item_Outlet_Sales            0\n",
       "dtype: int64"
      ]
     },
     "execution_count": 18,
     "metadata": {},
     "output_type": "execute_result"
    }
   ],
   "source": [
    "df_train.isnull().sum()"
   ]
  },
  {
   "cell_type": "code",
   "execution_count": 19,
   "metadata": {},
   "outputs": [
    {
     "data": {
      "text/plain": [
       "Item_Identifier              0\n",
       "Item_Weight                  0\n",
       "Item_Fat_Content             0\n",
       "Item_Visibility              0\n",
       "Item_Type                    0\n",
       "Item_MRP                     0\n",
       "Outlet_Identifier            0\n",
       "Outlet_Establishment_Year    0\n",
       "Outlet_Size                  0\n",
       "Outlet_Location_Type         0\n",
       "Outlet_Type                  0\n",
       "dtype: int64"
      ]
     },
     "execution_count": 19,
     "metadata": {},
     "output_type": "execute_result"
    }
   ],
   "source": [
    "df_test.isnull().sum()"
   ]
  },
  {
   "cell_type": "markdown",
   "metadata": {},
   "source": [
    "#### Item_Visibility with value 0 should be set to mean based on Item_Identifier"
   ]
  },
  {
   "cell_type": "code",
   "execution_count": 20,
   "metadata": {},
   "outputs": [
    {
     "data": {
      "text/plain": [
       "526"
      ]
     },
     "execution_count": 20,
     "metadata": {},
     "output_type": "execute_result"
    }
   ],
   "source": [
    "len(df_train[df_train['Item_Visibility']==0.0])"
   ]
  },
  {
   "cell_type": "code",
   "execution_count": 21,
   "metadata": {},
   "outputs": [
    {
     "data": {
      "text/plain": [
       "353"
      ]
     },
     "execution_count": 21,
     "metadata": {},
     "output_type": "execute_result"
    }
   ],
   "source": [
    "len(df_test[df_test['Item_Visibility']==0.0])"
   ]
  },
  {
   "cell_type": "code",
   "execution_count": 22,
   "metadata": {},
   "outputs": [
    {
     "data": {
      "text/plain": [
       "{'DRA12': 0.031956177,\n",
       " 'DRA24': 0.04806226414285714,\n",
       " 'DRA59': 0.134718017375,\n",
       " 'DRB01': 0.08212644233333333,\n",
       " 'DRB13': 0.008002348599999999,\n",
       " 'DRB24': 0.020623782,\n",
       " 'DRB25': 0.07730474816666667,\n",
       " 'DRB48': 0.023700081428571433,\n",
       " 'DRC01': 0.019219470166666665,\n",
       " 'DRC12': 0.03789327825,\n",
       " 'DRC13': 0.024408559,\n",
       " 'DRC24': 0.024942033500000002,\n",
       " 'DRC25': 0.04815856442857142,\n",
       " 'DRC27': 0.06475441333333333,\n",
       " 'DRC36': 0.035993519800000005,\n",
       " 'DRC49': 0.06532683,\n",
       " 'DRD01': 0.0613361044,\n",
       " 'DRD12': 0.06628431071428571,\n",
       " 'DRD13': 0.04913169057142857,\n",
       " 'DRD15': 0.06837602242857144,\n",
       " 'DRD24': 0.03378398957142857,\n",
       " 'DRD25': 0.083190056625,\n",
       " 'DRD27': 0.022682492,\n",
       " 'DRD37': 0.015198772285714285,\n",
       " 'DRD49': 0.168145552,\n",
       " 'DRD60': 0.041920116666666674,\n",
       " 'DRE01': 0.223469365,\n",
       " 'DRE03': 0.026604318000000005,\n",
       " 'DRE12': 0.058932965000000004,\n",
       " 'DRE13': 0.0276924628,\n",
       " 'DRE15': 0.014086419333333334,\n",
       " 'DRE25': 0.0733151374,\n",
       " 'DRE27': 0.147626014,\n",
       " 'DRE37': 0.0896310842,\n",
       " 'DRE48': 0.014851214428571428,\n",
       " 'DRE49': 0.018148152222222224,\n",
       " 'DRE60': 0.17949263000000001,\n",
       " 'DRF01': 0.169746650375,\n",
       " 'DRF03': 0.04913433162499999,\n",
       " 'DRF13': 0.024883880833333333,\n",
       " 'DRF15': 0.031179172249999998,\n",
       " 'DRF23': 0.11777805062499999,\n",
       " 'DRF25': 0.043087972714285716,\n",
       " 'DRF27': 0.031103740875000004,\n",
       " 'DRF36': 0.02623606616666667,\n",
       " 'DRF37': 0.056344163333333336,\n",
       " 'DRF48': 0.05190652,\n",
       " 'DRF49': 0.08006145766666667,\n",
       " 'DRF51': 0.16617551733333333,\n",
       " 'DRF60': 0.0391718095,\n",
       " 'DRG01': 0.0515652074,\n",
       " 'DRG03': 0.070319973,\n",
       " 'DRG11': 0.078456952,\n",
       " 'DRG13': 0.0372149052,\n",
       " 'DRG15': 0.06406233033333335,\n",
       " 'DRG23': 0.07435561042857142,\n",
       " 'DRG25': 0.0190399635,\n",
       " 'DRG27': 0.09994878300000001,\n",
       " 'DRG36': 0.0953050506,\n",
       " 'DRG37': 0.021475471857142856,\n",
       " 'DRG39': 0.04226013066666667,\n",
       " 'DRG48': 0.014563256799999999,\n",
       " 'DRG49': 0.0766388016,\n",
       " 'DRG51': 0.013116012799999998,\n",
       " 'DRH01': 0.11266233280000001,\n",
       " 'DRH03': 0.04342192833333333,\n",
       " 'DRH11': 0.07551844925000001,\n",
       " 'DRH13': 0.0274981838,\n",
       " 'DRH15': 0.1031776815,\n",
       " 'DRH23': 0.16206541800000002,\n",
       " 'DRH25': 0.013804531333333335,\n",
       " 'DRH36': 0.0320357685,\n",
       " 'DRH37': 0.046881442166666676,\n",
       " 'DRH39': 0.06181720483333334,\n",
       " 'DRH49': 0.02930386625,\n",
       " 'DRH51': 0.09238305340000001,\n",
       " 'DRH59': 0.05207968833333334,\n",
       " 'DRI01': 0.027925476857142858,\n",
       " 'DRI03': 0.01918342775,\n",
       " 'DRI11': 0.04141927457142858,\n",
       " 'DRI13': 0.020372178,\n",
       " 'DRI23': 0.11452447366666667,\n",
       " 'DRI25': 0.03718193671428571,\n",
       " 'DRI37': 0.1197965585,\n",
       " 'DRI39': 0.11023328920000001,\n",
       " 'DRI47': 0.023285561166666663,\n",
       " 'DRI49': 0.18377854225,\n",
       " 'DRI51': 0.039978135500000005,\n",
       " 'DRI59': 0.0408512865,\n",
       " 'DRJ01': 0.12797096283333334,\n",
       " 'DRJ11': 0.06902596785714285,\n",
       " 'DRJ13': 0.07006537183333333,\n",
       " 'DRJ23': 0.0390074672,\n",
       " 'DRJ24': 0.13368538149999998,\n",
       " 'DRJ25': 0.15106863025000003,\n",
       " 'DRJ35': 0.04665946366666667,\n",
       " 'DRJ37': 0.061117959,\n",
       " 'DRJ39': 0.0363275035,\n",
       " 'DRJ47': 0.04423259125000001,\n",
       " 'DRJ49': 0.0112269752,\n",
       " 'DRJ51': 0.07051238439999999,\n",
       " 'DRJ59': 0.018327912666666665,\n",
       " 'DRK01': 0.0612245842,\n",
       " 'DRK11': 0.010325732666666665,\n",
       " 'DRK12': 0.036689528625,\n",
       " 'DRK13': 0.11527526083333334,\n",
       " 'DRK23': 0.0720574052,\n",
       " 'DRK35': 0.084678938375,\n",
       " 'DRK37': 0.032968552,\n",
       " 'DRK39': 0.039851230200000004,\n",
       " 'DRK47': 0.064151817,\n",
       " 'DRK49': 0.03081581814285714,\n",
       " 'DRK59': 0.07140688966666668,\n",
       " 'DRL01': 0.09289356957142857,\n",
       " 'DRL11': 0.0480433672,\n",
       " 'DRL23': 0.015314112250000001,\n",
       " 'DRL35': 0.026332202714285713,\n",
       " 'DRL37': 0.04576124871428572,\n",
       " 'DRL47': 0.0309661552,\n",
       " 'DRL49': 0.062851071,\n",
       " 'DRL59': 0.029190409,\n",
       " 'DRL60': 0.032595447285714285,\n",
       " 'DRM11': 0.06614096366666666,\n",
       " 'DRM23': 0.12960696642857142,\n",
       " 'DRM35': 0.07049127449999999,\n",
       " 'DRM37': 0.11607029399999999,\n",
       " 'DRM47': 0.048710599166666674,\n",
       " 'DRM48': 0.11286111300000001,\n",
       " 'DRM49': 0.12176570240000002,\n",
       " 'DRM59': 0.0039813265714285714,\n",
       " 'DRN11': 0.16335672675000001,\n",
       " 'DRN35': 0.07819027349999999,\n",
       " 'DRN36': 0.047647547400000004,\n",
       " 'DRN37': 0.0912017206666667,\n",
       " 'DRN47': 0.01622699766666667,\n",
       " 'DRN59': 0.0642121235,\n",
       " 'DRO35': 0.034650207,\n",
       " 'DRO47': 0.10633082450000002,\n",
       " 'DRO59': 0.0644450505,\n",
       " 'DRP35': 0.099416358875,\n",
       " 'DRP47': 0.14082754225,\n",
       " 'DRQ35': 0.04233645442857143,\n",
       " 'DRY23': 0.12278888233333334,\n",
       " 'DRZ11': 0.11280836683333335,\n",
       " 'DRZ24': 0.049190467800000005,\n",
       " 'FDA01': 0.05966476228571428,\n",
       " 'FDA02': 0.03291934171428572,\n",
       " 'FDA03': 0.04296080283333333,\n",
       " 'FDA04': 0.06679212925,\n",
       " 'FDA07': 0.033931167857142855,\n",
       " 'FDA08': 0.056369842166666656,\n",
       " 'FDA09': 0.1497584494,\n",
       " 'FDA10': 0.13603864766666668,\n",
       " 'FDA11': 0.0432986252,\n",
       " 'FDA13': 0.0860011705,\n",
       " 'FDA14': 0.08153173866666667,\n",
       " 'FDA15': 0.017386784625000002,\n",
       " 'FDA16': 0.02544836625,\n",
       " 'FDA19': 0.0515388924,\n",
       " 'FDA20': 0.06668127583333333,\n",
       " 'FDA21': 0.03600047666666667,\n",
       " 'FDA22': 0.05629625233333333,\n",
       " 'FDA23': 0.04719763433333333,\n",
       " 'FDA25': 0.068283384,\n",
       " 'FDA26': 0.07015060079999999,\n",
       " 'FDA27': 0.024799254600000004,\n",
       " 'FDA28': 0.05320742666666667,\n",
       " 'FDA31': 0.110329866,\n",
       " 'FDA32': 0.03195281914285714,\n",
       " 'FDA33': 0.0339612568,\n",
       " 'FDA34': 0.0148772304,\n",
       " 'FDA35': 0.05386944075,\n",
       " 'FDA36': 0.006724899,\n",
       " 'FDA37': 0.05529826400000001,\n",
       " 'FDA38': 0.0302935035,\n",
       " 'FDA39': 0.012208282124999999,\n",
       " 'FDA40': 0.0993941046,\n",
       " 'FDA43': 0.0734438434,\n",
       " 'FDA44': 0.057754922,\n",
       " 'FDA45': 0.15538706959999998,\n",
       " 'FDA46': 0.11770163300000001,\n",
       " 'FDA47': 0.09730701983333333,\n",
       " 'FDA48': 0.114990544,\n",
       " 'FDA49': 0.08029944700000001,\n",
       " 'FDA50': 0.102714250125,\n",
       " 'FDA51': 0.1643680936666667,\n",
       " 'FDA52': 0.12836369100000003,\n",
       " 'FDA55': 0.06766406675,\n",
       " 'FDA56': 0.0087611188,\n",
       " 'FDA57': 0.03959541133333333,\n",
       " 'FDA58': 0.10371591666666664,\n",
       " 'FDB02': 0.0291656648,\n",
       " 'FDB03': 0.1569763326,\n",
       " 'FDB04': 0.07002486399999999,\n",
       " 'FDB05': 0.09874775999999999,\n",
       " 'FDB08': 0.025952859499999998,\n",
       " 'FDB09': 0.0660779412,\n",
       " 'FDB10': 0.0673972565,\n",
       " 'FDB11': 0.0609480382,\n",
       " 'FDB12': 0.10540469020000001,\n",
       " 'FDB14': 0.09795261257142858,\n",
       " 'FDB15': 0.15018024814285713,\n",
       " 'FDB16': 0.044948799,\n",
       " 'FDB17': 0.043219134,\n",
       " 'FDB20': 0.052066101399999995,\n",
       " 'FDB21': 0.11916012839999998,\n",
       " 'FDB22': 0.12642599940000002,\n",
       " 'FDB23': 0.0053603315,\n",
       " 'FDB26': 0.031284084799999994,\n",
       " 'FDB27': 0.06159701016666667,\n",
       " 'FDB28': 0.10927600675,\n",
       " 'FDB29': 0.05251904583333333,\n",
       " 'FDB32': 0.029040071,\n",
       " 'FDB33': 0.016777203400000003,\n",
       " 'FDB34': 0.02920265814285714,\n",
       " 'FDB35': 0.07282339716666668,\n",
       " 'FDB36': 0.03467489585714286,\n",
       " 'FDB37': 0.022921055200000002,\n",
       " 'FDB38': 0.021872120000000002,\n",
       " 'FDB39': 0.0443732326,\n",
       " 'FDB40': 0.008389905666666668,\n",
       " 'FDB41': 0.12051547216666668,\n",
       " 'FDB44': 0.013554696799999998,\n",
       " 'FDB45': 0.024023372666666667,\n",
       " 'FDB46': 0.09393890575,\n",
       " 'FDB47': 0.071455195,\n",
       " 'FDB49': 0.037349092833333326,\n",
       " 'FDB50': 0.1540275828,\n",
       " 'FDB51': 0.038522888166666665,\n",
       " 'FDB52': 0.030447663199999996,\n",
       " 'FDB53': 0.139569763,\n",
       " 'FDB56': 0.064036909,\n",
       " 'FDB57': 0.0188043246,\n",
       " 'FDB58': 0.016250771285714286,\n",
       " 'FDB59': 0.0152874972,\n",
       " 'FDB60': 0.03177388516666666,\n",
       " 'FDC02': 0.07653064899999999,\n",
       " 'FDC03': 0.071957675,\n",
       " 'FDC04': 0.0517666446,\n",
       " 'FDC05': 0.09905860475,\n",
       " 'FDC08': 0.11509383083333334,\n",
       " 'FDC09': 0.029882333599999998,\n",
       " 'FDC10': 0.083853786,\n",
       " 'FDC11': 0.141736083,\n",
       " 'FDC14': 0.04344662850000001,\n",
       " 'FDC15': 0.20844980224999998,\n",
       " 'FDC16': 0.017655600285714286,\n",
       " 'FDC17': 0.01547269914285714,\n",
       " 'FDC20': 0.023023108,\n",
       " 'FDC21': 0.055275661399999995,\n",
       " 'FDC22': 0.109286496,\n",
       " 'FDC23': 0.017979145,\n",
       " 'FDC26': 0.143551838,\n",
       " 'FDC28': 0.032961199000000004,\n",
       " 'FDC29': 0.024224406,\n",
       " 'FDC32': 0.11391658260000001,\n",
       " 'FDC33': 0.068941072,\n",
       " 'FDC34': 0.1945755455,\n",
       " 'FDC35': 0.13664100366666668,\n",
       " 'FDC37': 0.04110915266666667,\n",
       " 'FDC38': 0.1225724095,\n",
       " 'FDC39': 0.11951804825,\n",
       " 'FDC40': 0.06519744520000001,\n",
       " 'FDC41': 0.14073352228571429,\n",
       " 'FDC44': 0.14388854933333334,\n",
       " 'FDC45': 0.15277894916666665,\n",
       " 'FDC46': 0.12778287885714285,\n",
       " 'FDC47': 0.147221209,\n",
       " 'FDC48': 0.018858041750000002,\n",
       " 'FDC50': 0.1302718615714286,\n",
       " 'FDC51': 0.0096376756,\n",
       " 'FDC52': 0.00984836825,\n",
       " 'FDC53': 0.009825298666666666,\n",
       " 'FDC56': 0.12167806866666668,\n",
       " 'FDC57': 0.06488455174999999,\n",
       " 'FDC58': 0.0336269068,\n",
       " 'FDC59': 0.05213565057142857,\n",
       " 'FDC60': 0.1554055105,\n",
       " 'FDD02': 0.036987802,\n",
       " 'FDD03': 0.0799452682,\n",
       " 'FDD04': 0.10135682749999998,\n",
       " 'FDD05': 0.018186468875,\n",
       " 'FDD08': 0.03538630333333333,\n",
       " 'FDD09': 0.017938445833333334,\n",
       " 'FDD10': 0.04391608342857144,\n",
       " 'FDD11': 0.020421410666666664,\n",
       " 'FDD14': 0.19124694200000003,\n",
       " 'FDD16': 0.0492991345,\n",
       " 'FDD17': 0.03114569757142857,\n",
       " 'FDD20': 0.020709213333333334,\n",
       " 'FDD21': 0.0204071985,\n",
       " 'FDD22': 0.09993012400000001,\n",
       " 'FDD23': 0.04877380033333334,\n",
       " 'FDD26': 0.08925224533333333,\n",
       " 'FDD28': 0.03992884325,\n",
       " 'FDD29': 0.019973603875,\n",
       " 'FDD32': 0.041053396,\n",
       " 'FDD33': 0.08128700925,\n",
       " 'FDD34': 0.015902381200000003,\n",
       " 'FDD35': 0.0207019394,\n",
       " 'FDD36': 0.024861244,\n",
       " 'FDD38': 0.008585736111111112,\n",
       " 'FDD39': 0.077741191,\n",
       " 'FDD40': 0.0147877325,\n",
       " 'FDD41': 0.0873119425,\n",
       " 'FDD44': 0.0654787045,\n",
       " 'FDD45': 0.11639661125,\n",
       " 'FDD46': 0.17474719616666667,\n",
       " 'FDD47': 0.15846418383333336,\n",
       " 'FDD48': 0.0302506975,\n",
       " 'FDD50': 0.14175190885714284,\n",
       " 'FDD51': 0.11488594533333334,\n",
       " 'FDD52': 0.1832876853333333,\n",
       " 'FDD53': 0.0568439022,\n",
       " 'FDD56': 0.11563258399999998,\n",
       " 'FDD57': 0.024560008285714283,\n",
       " 'FDD58': 0.06683014150000001,\n",
       " 'FDD59': 0.0496826245,\n",
       " 'FDE02': 0.1394586058,\n",
       " 'FDE04': 0.020066976166666667,\n",
       " 'FDE05': 0.030689501833333337,\n",
       " 'FDE08': 0.063380251,\n",
       " 'FDE09': 0.0234260666,\n",
       " 'FDE10': 0.08516153716666668,\n",
       " 'FDE11': 0.12537952462500002,\n",
       " 'FDE14': 0.0314868802,\n",
       " 'FDE16': 0.03173716185714286,\n",
       " 'FDE17': 0.046740068714285724,\n",
       " 'FDE20': 0.0055373622,\n",
       " 'FDE21': 0.015323860333333333,\n",
       " 'FDE22': 0.03803405459999999,\n",
       " 'FDE23': 0.04266785320000001,\n",
       " 'FDE24': 0.104063175,\n",
       " 'FDE26': 0.1010490608,\n",
       " 'FDE28': 0.117290219,\n",
       " 'FDE29': 0.1431763955,\n",
       " 'FDE32': 0.048790328333333334,\n",
       " 'FDE33': 0.05976290128571428,\n",
       " 'FDE34': 0.12020703266666666,\n",
       " 'FDE35': 0.0410604424,\n",
       " 'FDE36': 0.034901689166666666,\n",
       " 'FDE38': 0.044499155,\n",
       " 'FDE39': 0.036167728499999996,\n",
       " 'FDE40': 0.0942601924,\n",
       " 'FDE41': 0.0534416995,\n",
       " 'FDE44': 0.137269322,\n",
       " 'FDE45': 0.0383726418,\n",
       " 'FDE46': 0.017742649000000003,\n",
       " 'FDE47': 0.037967411500000006,\n",
       " 'FDE50': 0.016189421333333332,\n",
       " 'FDE51': 0.11609786028571431,\n",
       " 'FDE52': 0.02974207,\n",
       " 'FDE53': 0.030517780599999995,\n",
       " 'FDE56': 0.18910409574999998,\n",
       " 'FDE57': 0.03629906275,\n",
       " 'FDE58': 0.026043766750000003,\n",
       " 'FDE59': 0.06938923566666666,\n",
       " 'FDF02': 0.103862387,\n",
       " 'FDF04': 0.01323474425,\n",
       " 'FDF05': 0.026895910125,\n",
       " 'FDF08': 0.06167332833333333,\n",
       " 'FDF09': 0.012152534666666666,\n",
       " 'FDF10': 0.11780419525,\n",
       " 'FDF11': 0.017677499000000003,\n",
       " 'FDF12': 0.08251142633333335,\n",
       " 'FDF14': 0.0272312885,\n",
       " 'FDF16': 0.101509481375,\n",
       " 'FDF17': 0.04275214733333333,\n",
       " 'FDF20': 0.036939184,\n",
       " 'FDF21': 0.04769498514285715,\n",
       " 'FDF22': 0.061704527,\n",
       " 'FDF24': 0.028245990500000002,\n",
       " 'FDF26': 0.05192408399999999,\n",
       " 'FDF28': 0.037874993,\n",
       " 'FDF29': 0.019933248200000003,\n",
       " 'FDF32': 0.05003937740000001,\n",
       " 'FDF33': 0.0201559566,\n",
       " 'FDF34': 0.015613550833333335,\n",
       " 'FDF35': 0.15424242059999999,\n",
       " 'FDF38': 0.0263470375,\n",
       " 'FDF39': 0.0195369915,\n",
       " 'FDF40': 0.026741576250000003,\n",
       " 'FDF41': 0.13136499866666665,\n",
       " 'FDF44': 0.059759376600000004,\n",
       " 'FDF45': 0.0122351766,\n",
       " 'FDF46': 0.1077878664,\n",
       " 'FDF47': 0.0977739095,\n",
       " 'FDF50': 0.11721287933333334,\n",
       " 'FDF52': 0.0699477698888889,\n",
       " 'FDF53': 0.08361771500000001,\n",
       " 'FDF56': 0.13841744611111112,\n",
       " 'FDF57': 0.05677067314285714,\n",
       " 'FDF58': 0.006371971,\n",
       " 'FDF59': 0.05352988424999999,\n",
       " 'FDG02': 0.0129633086,\n",
       " 'FDG04': 0.00720975175,\n",
       " 'FDG05': 0.06582354425,\n",
       " 'FDG08': 0.159630947,\n",
       " 'FDG09': 0.051564762111111107,\n",
       " 'FDG10': 0.013538722833333334,\n",
       " 'FDG12': 0.004224196666666667,\n",
       " 'FDG14': 0.05054855233333333,\n",
       " 'FDG16': 0.10118279466666667,\n",
       " 'FDG17': 0.03589793449999999,\n",
       " 'FDG20': 0.1429210632,\n",
       " 'FDG21': 0.140244468,\n",
       " 'FDG22': 0.04138761925,\n",
       " 'FDG24': 0.014644772124999999,\n",
       " 'FDG26': 0.0427372245,\n",
       " 'FDG28': 0.049419667,\n",
       " 'FDG29': 0.05630456066666666,\n",
       " 'FDG31': 0.04686745616666666,\n",
       " 'FDG32': 0.194919861,\n",
       " 'FDG33': 0.1603242983,\n",
       " 'FDG34': 0.04121846014285714,\n",
       " 'FDG35': 0.006689074399999999,\n",
       " 'FDG38': 0.05060257025,\n",
       " 'FDG40': 0.04654081025,\n",
       " 'FDG41': 0.07677448549999999,\n",
       " 'FDG44': 0.08100864216666667,\n",
       " 'FDG45': 0.12121725583333336,\n",
       " 'FDG46': 0.04071239416666667,\n",
       " 'FDG47': 0.07753802633333334,\n",
       " 'FDG50': 0.016769029428571426,\n",
       " 'FDG52': 0.0656277532,\n",
       " 'FDG53': 0.051085071,\n",
       " 'FDG56': 0.07152275400000001,\n",
       " 'FDG57': 0.078498725625,\n",
       " 'FDG58': 0.07982270325,\n",
       " 'FDG59': 0.04328304216666667,\n",
       " 'FDG60': 0.0606474134,\n",
       " 'FDH02': 0.016670325399999998,\n",
       " 'FDH04': 0.01353554525,\n",
       " 'FDH05': 0.09095341266666666,\n",
       " 'FDH08': 0.020678903,\n",
       " 'FDH09': 0.056124763599999995,\n",
       " 'FDH10': 0.058118815,\n",
       " 'FDH12': 0.10109719625,\n",
       " 'FDH14': 0.05639142028571429,\n",
       " 'FDH16': 0.0525714956,\n",
       " 'FDH17': 0.01845924942857143,\n",
       " 'FDH19': 0.03665605728571429,\n",
       " 'FDH20': 0.02081851783333333,\n",
       " 'FDH21': 0.037569867714285714,\n",
       " 'FDH22': 0.13639401550000002,\n",
       " 'FDH24': 0.0214786924,\n",
       " 'FDH26': 0.03470862257142857,\n",
       " 'FDH27': 0.068828576125,\n",
       " 'FDH28': 0.106785007875,\n",
       " 'FDH31': 0.0163147308,\n",
       " 'FDH32': 0.07606305166666667,\n",
       " 'FDH33': 0.118134429,\n",
       " 'FDH34': 0.035779679800000005,\n",
       " 'FDH35': 0.056988493333333334,\n",
       " 'FDH38': 0.011763827166666666,\n",
       " 'FDH40': 0.08784664283333334,\n",
       " 'FDH41': 0.09222243516666666,\n",
       " 'FDH44': 0.028816598833333335,\n",
       " 'FDH45': 0.11902203200000001,\n",
       " 'FDH46': 0.041292229,\n",
       " 'FDH47': 0.14333715866666666,\n",
       " 'FDH48': 0.046935785142857143,\n",
       " 'FDH50': 0.161571373,\n",
       " 'FDH52': 0.054903532666666664,\n",
       " 'FDH53': 0.014966308499999999,\n",
       " 'FDH56': 0.07686601014285714,\n",
       " 'FDH57': 0.03922038428571429,\n",
       " 'FDH58': 0.030834819333333333,\n",
       " 'FDH60': 0.06393948633333334,\n",
       " 'FDI02': 0.1148383565,\n",
       " 'FDI04': 0.080736027,\n",
       " 'FDI05': 0.12717467600000001,\n",
       " 'FDI07': 0.03740259057142858,\n",
       " 'FDI08': 0.06644206483333333,\n",
       " 'FDI09': 0.09718518375,\n",
       " 'FDI10': 0.078296652,\n",
       " 'FDI12': 0.10063084074999999,\n",
       " 'FDI14': 0.08978386314285713,\n",
       " 'FDI15': 0.135592588,\n",
       " 'FDI16': 0.128357683,\n",
       " 'FDI19': 0.0494423735,\n",
       " 'FDI20': 0.04641475057142857,\n",
       " 'FDI21': 0.062053126142857136,\n",
       " 'FDI22': 0.113368149625,\n",
       " 'FDI24': 0.0905086822,\n",
       " 'FDI26': 0.038670216285714286,\n",
       " 'FDI27': 0.034475252,\n",
       " 'FDI28': 0.02633039416666667,\n",
       " 'FDI32': 0.18484474285714286,\n",
       " 'FDI33': 0.0284302394,\n",
       " 'FDI34': 0.085322169,\n",
       " 'FDI35': 0.04130996533333333,\n",
       " 'FDI36': 0.062470412,\n",
       " 'FDI38': 0.0136831078,\n",
       " 'FDI40': 0.12589356959999998,\n",
       " 'FDI41': 0.060348256625,\n",
       " 'FDI44': 0.10027137025,\n",
       " 'FDI45': 0.03764723314285714,\n",
       " 'FDI46': 0.0743871066,\n",
       " 'FDI48': 0.041877656,\n",
       " 'FDI50': 0.02571240783333333,\n",
       " 'FDI52': 0.10489257916666665,\n",
       " 'FDI53': 0.13796713733333332,\n",
       " 'FDI56': 0.1039355985,\n",
       " 'FDI57': 0.05406748271428571,\n",
       " 'FDI58': 0.07082559575,\n",
       " 'FDI60': 0.04266824633333333,\n",
       " 'FDJ02': 0.0299352125,\n",
       " 'FDJ03': 0.08468511425000001,\n",
       " 'FDJ04': 0.12458967283333335,\n",
       " 'FDJ07': 0.0168707705,\n",
       " 'FDJ08': 0.12758686700000002,\n",
       " 'FDJ09': 0.04181470642857143,\n",
       " 'FDJ10': 0.129542354,\n",
       " 'FDJ12': 0.039123169,\n",
       " 'FDJ14': 0.037613245,\n",
       " 'FDJ15': 0.023332644,\n",
       " 'FDJ16': 0.1151405924,\n",
       " 'FDJ20': 0.113811135,\n",
       " 'FDJ21': 0.038570268428571426,\n",
       " 'FDJ22': 0.05851952271428572,\n",
       " 'FDJ26': 0.0847833314,\n",
       " 'FDJ27': 0.12228165900000001,\n",
       " 'FDJ28': 0.02010910775,\n",
       " 'FDJ32': 0.057739654999999994,\n",
       " 'FDJ33': 0.08842592099999999,\n",
       " 'FDJ34': 0.09374329583333334,\n",
       " 'FDJ36': 0.1455071028,\n",
       " 'FDJ38': 0.0402743095,\n",
       " 'FDJ40': 0.04949233233333333,\n",
       " 'FDJ41': 0.025486267666666663,\n",
       " 'FDJ44': 0.115327458875,\n",
       " 'FDJ45': 0.08130400028571429,\n",
       " 'FDJ46': 0.04481270225,\n",
       " 'FDJ48': 0.053803242285714294,\n",
       " 'FDJ50': 0.021610422333333334,\n",
       " 'FDJ52': 0.017833549799999997,\n",
       " 'FDJ53': 0.07133217583333333,\n",
       " 'FDJ55': 0.025528778,\n",
       " 'FDJ56': 0.2111066876,\n",
       " 'FDJ57': 0.020603952571428576,\n",
       " 'FDJ58': 0.124098424625,\n",
       " 'FDJ60': 0.06261406783333334,\n",
       " 'FDK02': 0.13907930816666667,\n",
       " 'FDK03': 0.0811252012857143,\n",
       " 'FDK04': 0.0593912844,\n",
       " 'FDK08': 0.14719582442857146,\n",
       " 'FDK09': 0.11356153249999999,\n",
       " 'FDK10': 0.0403900668,\n",
       " 'FDK14': 0.041179345666666665,\n",
       " 'FDK15': 0.12179141516666665,\n",
       " 'FDK16': 0.11533527219999999,\n",
       " 'FDK20': 0.040328333499999994,\n",
       " 'FDK21': 0.010985559142857143,\n",
       " 'FDK22': 0.0296074724,\n",
       " 'FDK24': 0.09703831733333333,\n",
       " 'FDK25': 0.17656854816666667,\n",
       " 'FDK26': 0.03568931357142857,\n",
       " 'FDK27': 0.0102939742,\n",
       " 'FDK28': 0.07449284939999999,\n",
       " 'FDK32': 0.048955007,\n",
       " 'FDK33': 0.0126417325,\n",
       " 'FDK34': 0.03211726016666666,\n",
       " 'FDK36': 0.007215015,\n",
       " 'FDK38': 0.05848245542857143,\n",
       " 'FDK40': 0.015615496000000001,\n",
       " 'FDK41': 0.12758042283333335,\n",
       " 'FDK43': 0.030255589166666666,\n",
       " 'FDK44': 0.09784683559999999,\n",
       " 'FDK45': 0.038132975500000006,\n",
       " 'FDK46': 0.06313156333333332,\n",
       " 'FDK48': 0.0301388692,\n",
       " 'FDK50': 0.021294045,\n",
       " 'FDK51': 0.005740066571428572,\n",
       " 'FDK52': 0.0617450875,\n",
       " 'FDK55': 0.0290317485,\n",
       " 'FDK56': 0.06503787075,\n",
       " 'FDK57': 0.079904068,\n",
       " 'FDK58': 0.037970071,\n",
       " 'FDK60': 0.07052584775,\n",
       " 'FDL02': 0.12364047225,\n",
       " 'FDL03': 0.027113549800000004,\n",
       " 'FDL04': 0.11194855516666664,\n",
       " 'FDL08': 0.04973411233333333,\n",
       " 'FDL09': 0.1440104866666667,\n",
       " 'FDL10': 0.03459656075,\n",
       " 'FDL12': 0.13975616919999997,\n",
       " 'FDL13': 0.06788114414285715,\n",
       " 'FDL14': 0.037586966750000006,\n",
       " 'FDL15': 0.05839447866666667,\n",
       " 'FDL16': 0.19410228340000002,\n",
       " 'FDL20': 0.12454850625,\n",
       " 'FDL21': 0.008221060799999999,\n",
       " 'FDL22': 0.03640772128571429,\n",
       " 'FDL24': 0.024904027,\n",
       " 'FDL25': 0.13141739766666669,\n",
       " 'FDL26': 0.07331070049999999,\n",
       " 'FDL27': 0.01065129725,\n",
       " 'FDL28': 0.042094863333333336,\n",
       " 'FDL32': 0.1330450642,\n",
       " 'FDL33': 0.09446705550000001,\n",
       " 'FDL34': 0.040984023375,\n",
       " 'FDL36': 0.09165070342857143,\n",
       " 'FDL38': 0.017732145,\n",
       " 'FDL39': 0.06338857366666666,\n",
       " 'FDL40': 0.011072369142857143,\n",
       " 'FDL43': 0.02707045866666667,\n",
       " 'FDL44': 0.012275702000000001,\n",
       " 'FDL45': 0.04196240033333332,\n",
       " 'FDL46': 0.05929011014285714,\n",
       " 'FDL48': 0.09020092457142857,\n",
       " 'FDL50': 0.04242364825,\n",
       " 'FDL51': 0.04754388933333333,\n",
       " 'FDL52': 0.04891851857142857,\n",
       " 'FDL56': 0.14152642616666666,\n",
       " 'FDL57': 0.07554532583333333,\n",
       " 'FDL58': 0.071187097125,\n",
       " 'FDM01': 0.094628117,\n",
       " 'FDM02': 0.0838122198,\n",
       " 'FDM03': 0.0740532438,\n",
       " 'FDM04': 0.047201213666666665,\n",
       " 'FDM08': 0.05115642214285714,\n",
       " 'FDM09': 0.10053768475,\n",
       " 'FDM10': 0.0759369364,\n",
       " 'FDM12': 0.08574765333333334,\n",
       " 'FDM13': 0.071798805,\n",
       " 'FDM14': 0.013241721666666666,\n",
       " 'FDM15': 0.05746993242857142,\n",
       " 'FDM16': 0.033623744,\n",
       " 'FDM20': 0.0232488068,\n",
       " 'FDM21': 0.064418241,\n",
       " 'FDM22': 0.0497724745,\n",
       " 'FDM24': 0.06347180599999999,\n",
       " 'FDM25': 0.06751754133333333,\n",
       " 'FDM27': 0.1822658878,\n",
       " 'FDM28': 0.05595797533333333,\n",
       " 'FDM32': 0.01547047175,\n",
       " 'FDM33': 0.06589556425,\n",
       " 'FDM34': 0.07879606475,\n",
       " 'FDM36': 0.06504203142857143,\n",
       " 'FDM38': 0.092732708,\n",
       " 'FDM39': 0.060675818400000005,\n",
       " 'FDM40': 0.106580267,\n",
       " 'FDM44': 0.03742437785714286,\n",
       " 'FDM45': 0.088312261,\n",
       " 'FDM46': 0.15992149039999998,\n",
       " 'FDM50': 0.0300906024,\n",
       " 'FDM51': 0.0216406955,\n",
       " 'FDM52': 0.026042130249999997,\n",
       " 'FDM56': 0.06669397839999999,\n",
       " 'FDM57': 0.07599129599999999,\n",
       " 'FDM58': 0.06469372585714285,\n",
       " 'FDM60': 0.0289401684,\n",
       " 'FDN01': 0.07682006071428571,\n",
       " 'FDN02': 0.07385015016666667,\n",
       " 'FDN03': 0.0193744114,\n",
       " 'FDN04': 0.012086862571428571,\n",
       " 'FDN08': 0.08264988720000001,\n",
       " 'FDN09': 0.032968234000000006,\n",
       " 'FDN10': 0.03692351519999999,\n",
       " 'FDN12': 0.077347713,\n",
       " 'FDN13': 0.1713006963333333,\n",
       " 'FDN15': 0.020144572285714285,\n",
       " 'FDN16': 0.062805713,\n",
       " 'FDN20': 0.026188996000000003,\n",
       " 'FDN21': 0.08509713599999999,\n",
       " 'FDN22': 0.138683147,\n",
       " 'FDN23': 0.07547905166666667,\n",
       " 'FDN24': 0.1303416528,\n",
       " 'FDN25': 0.0704188886,\n",
       " 'FDN27': 0.02963748375,\n",
       " 'FDN28': 0.0303150274,\n",
       " 'FDN31': 0.072931652,\n",
       " 'FDN32': 0.0155685362,\n",
       " 'FDN33': 0.1229889555,\n",
       " 'FDN34': 0.04388066683333333,\n",
       " 'FDN38': 0.10355956233333334,\n",
       " 'FDN39': 0.061965031,\n",
       " 'FDN40': 0.064942776,\n",
       " 'FDN44': 0.02280910925,\n",
       " 'FDN45': 0.1180140855,\n",
       " 'FDN46': 0.12068617200000002,\n",
       " 'FDN48': 0.0747185518,\n",
       " 'FDN49': 0.1422358146,\n",
       " 'FDN50': 0.026526772333333334,\n",
       " 'FDN51': 0.020999162000000002,\n",
       " 'FDN52': 0.13093275,\n",
       " 'FDN56': 0.11715062175000002,\n",
       " 'FDN57': 0.06007208742857143,\n",
       " 'FDN58': 0.05687016,\n",
       " 'FDN60': 0.10545686771428571,\n",
       " 'FDO01': 0.0207303146,\n",
       " 'FDO03': 0.0438181755,\n",
       " 'FDO04': 0.019897802750000002,\n",
       " 'FDO08': 0.057623018500000005,\n",
       " 'FDO09': 0.10435188316666667,\n",
       " 'FDO10': 0.010637448625,\n",
       " 'FDO11': 0.0353381045,\n",
       " 'FDO12': 0.05502449549999999,\n",
       " 'FDO13': 0.0703319244,\n",
       " 'FDO15': 0.009647534,\n",
       " 'FDO16': 0.0171672942,\n",
       " 'FDO19': 0.015998404777777777,\n",
       " 'FDO20': 0.1270333915,\n",
       " 'FDO21': 0.0097800254,\n",
       " 'FDO22': 0.01705904957142857,\n",
       " 'FDO23': 0.14129689414285715,\n",
       " 'FDO24': 0.16790732828571428,\n",
       " 'FDO25': 0.1417741255,\n",
       " 'FDO27': 0.1432901228,\n",
       " 'FDO28': 0.083093399,\n",
       " 'FDO31': 0.0290061884,\n",
       " 'FDO32': 0.120655851375,\n",
       " 'FDO33': 0.089686322,\n",
       " 'FDO34': 0.03284596057142857,\n",
       " 'FDO36': 0.0895473412,\n",
       " 'FDO37': 0.020514050125,\n",
       " 'FDO38': 0.0729624448,\n",
       " 'FDO39': 0.13741225133333335,\n",
       " 'FDO40': 0.03632725316666667,\n",
       " 'FDO44': 0.08736934549999999,\n",
       " 'FDO45': 0.038006354666666665,\n",
       " 'FDO46': 0.011843190666666665,\n",
       " 'FDO48': 0.026876125,\n",
       " 'FDO49': 0.039229479,\n",
       " 'FDO50': 0.05205881716666666,\n",
       " 'FDO51': 0.04196007666666667,\n",
       " 'FDO52': 0.0772364445,\n",
       " 'FDO56': 0.05785277099999999,\n",
       " 'FDO57': 0.13095122271428572,\n",
       " 'FDO58': 0.039575619166666666,\n",
       " 'FDO60': 0.032766865,\n",
       " 'FDP01': 0.07766425766666667,\n",
       " 'FDP03': 0.058348570714285716,\n",
       " 'FDP04': 0.013820544999999998,\n",
       " 'FDP07': 0.0899931206,\n",
       " 'FDP08': 0.1125990518,\n",
       " 'FDP09': 0.038983281800000005,\n",
       " 'FDP10': 0.12815190314285713,\n",
       " 'FDP11': 0.08142192250000001,\n",
       " 'FDP12': 0.04534874,\n",
       " 'FDP13': 0.159564854,\n",
       " 'FDP15': 0.041768035499999995,\n",
       " 'FDP16': 0.04467887499999999,\n",
       " 'FDP19': 0.13521626516666665,\n",
       " 'FDP20': 0.04572939875,\n",
       " 'FDP21': 0.030604306499999998,\n",
       " 'FDP22': 0.08282697433333332,\n",
       " 'FDP23': 0.028477102600000005,\n",
       " 'FDP24': 0.09103602042857142,\n",
       " 'FDP25': 0.024584102222222223,\n",
       " 'FDP26': 0.16075840179999998,\n",
       " 'FDP27': 0.14376573299999998,\n",
       " 'FDP28': 0.087556270625,\n",
       " 'FDP31': 0.1616567188,\n",
       " 'FDP32': 0.08782339025000001,\n",
       " 'FDP33': 0.08556526183333334,\n",
       " 'FDP34': 0.1305448306,\n",
       " 'FDP36': 0.060928214,\n",
       " 'FDP37': 0.1649094818,\n",
       " 'FDP38': 0.0364380042,\n",
       " 'FDP39': 0.08363859500000001,\n",
       " 'FDP40': 0.039520394599999994,\n",
       " 'FDP44': 0.08869937483333333,\n",
       " 'FDP45': 0.030651772799999998,\n",
       " 'FDP46': 0.0699493345,\n",
       " 'FDP48': 0.044079933800000005,\n",
       " 'FDP49': 0.06660944685714286,\n",
       " 'FDP51': 0.10673428233333333,\n",
       " 'FDP52': 0.05662248400000001,\n",
       " 'FDP56': 0.0465628836,\n",
       " 'FDP57': 0.04207663860000001,\n",
       " 'FDP58': 0.12693149399999998,\n",
       " 'FDP59': 0.0640891956,\n",
       " 'FDP60': 0.03997564142857143,\n",
       " 'FDQ01': 0.16112344100000003,\n",
       " 'FDQ03': 0.07414284,\n",
       " 'FDQ04': 0.125046053,\n",
       " 'FDQ07': 0.0874560518,\n",
       " 'FDQ08': 0.022790301571428567,\n",
       " 'FDQ09': 0.048441224000000005,\n",
       " 'FDQ10': 0.03674677314285714,\n",
       " 'FDQ11': 0.0778548842,\n",
       " 'FDQ12': 0.040707256000000004,\n",
       " 'FDQ13': 0.011969307833333331,\n",
       " 'FDQ14': 0.0794597546,\n",
       " 'FDQ15': 0.14275146349999998,\n",
       " 'FDQ16': 0.0418069998,\n",
       " 'FDQ19': 0.0167718195,\n",
       " 'FDQ20': 0.029795684,\n",
       " 'FDQ21': 0.01946363433333333,\n",
       " 'FDQ22': 0.029727163666666667,\n",
       " 'FDQ23': 0.028207957,\n",
       " 'FDQ24': 0.0848905092,\n",
       " 'FDQ25': 0.032090605,\n",
       " 'FDQ26': 0.05824156399999999,\n",
       " 'FDQ27': 0.05262188925,\n",
       " 'FDQ28': 0.06042678525,\n",
       " 'FDQ31': 0.05091926066666667,\n",
       " 'FDQ32': 0.0524459595,\n",
       " 'FDQ33': 0.06856548625,\n",
       " 'FDQ34': 0.17989479128571428,\n",
       " 'FDQ36': 0.11569389942857143,\n",
       " 'FDQ37': 0.1011846636,\n",
       " 'FDQ39': 0.077764180625,\n",
       " 'FDQ40': 0.04175224466666667,\n",
       " 'FDQ44': 0.036203244,\n",
       " 'FDQ45': 0.010453090333333333,\n",
       " 'FDQ46': 0.10399879833333335,\n",
       " 'FDQ47': 0.1912401508,\n",
       " 'FDQ48': 0.03443341166666667,\n",
       " 'FDQ49': 0.045141589,\n",
       " 'FDQ51': 0.0163856304,\n",
       " 'FDQ52': 0.119492846,\n",
       " 'FDQ55': 0.013041562000000001,\n",
       " 'FDQ56': 0.1157581832857143,\n",
       " 'FDQ57': 0.03316961675,\n",
       " 'FDQ58': 0.0102207525,\n",
       " 'FDQ59': 0.045120586600000005,\n",
       " 'FDQ60': 0.191500528,\n",
       " 'FDR01': 0.05941824285714286,\n",
       " 'FDR02': 0.02422898042857143,\n",
       " 'FDR03': 0.008759817,\n",
       " 'FDR04': 0.0216568475,\n",
       " 'FDR07': 0.1054187375,\n",
       " 'FDR08': 0.04238803283333333,\n",
       " 'FDR09': 0.08522599428571428,\n",
       " 'FDR10': 0.0114052892,\n",
       " 'FDR11': 0.14262950224999998,\n",
       " 'FDR12': 0.0355131465,\n",
       " 'FDR13': 0.028766748999999998,\n",
       " 'FDR14': 0.2001860656,\n",
       " 'FDR15': 0.037044892142857146,\n",
       " 'FDR16': 0.10520840733333332,\n",
       " 'FDR19': 0.15981555699999997,\n",
       " 'FDR20': 0.023497975166666667,\n",
       " 'FDR21': 0.07339131057142859,\n",
       " 'FDR22': 0.020371834999999998,\n",
       " 'FDR23': 0.08614932475,\n",
       " 'FDR24': 0.0628745688,\n",
       " 'FDR25': 0.1397149024,\n",
       " 'FDR26': 0.04772531683333334,\n",
       " 'FDR27': 0.10545557542857142,\n",
       " 'FDR28': 0.0259539524,\n",
       " 'FDR31': 0.05650537060000001,\n",
       " 'FDR32': 0.067891602,\n",
       " 'FDR33': 0.030181849166666674,\n",
       " 'FDR34': 0.016007816799999998,\n",
       " 'FDR35': 0.020703022857142855,\n",
       " 'FDR36': 0.1381332642,\n",
       " 'FDR37': 0.072604908,\n",
       " 'FDR39': 0.08400071266666669,\n",
       " 'FDR40': 0.008023352999999999,\n",
       " 'FDR43': 0.17512704612500002,\n",
       " 'FDR44': 0.09016231275,\n",
       " 'FDR45': 0.02177431975,\n",
       " 'FDR46': 0.146825834,\n",
       " 'FDR47': 0.07008762299999999,\n",
       " 'FDR48': 0.10976262449999999,\n",
       " 'FDR49': 0.1302531766,\n",
       " 'FDR51': 0.17376962375000002,\n",
       " 'FDR52': 0.089642883,\n",
       " 'FDR55': 0.13219475985714285,\n",
       " 'FDR56': 0.1009281265,\n",
       " 'FDR57': 0.0234947455,\n",
       " 'FDR58': 0.035919021142857145,\n",
       " 'FDR59': 0.069269363875,\n",
       " 'FDR60': 0.13049915266666667,\n",
       " 'FDS01': 0.01713098757142857,\n",
       " 'FDS02': 0.1388097616,\n",
       " 'FDS03': 0.098523256,\n",
       " 'FDS04': 0.13996794614285715,\n",
       " 'FDS07': 0.0999797395,\n",
       " 'FDS08': 0.05686568433333333,\n",
       " 'FDS09': 0.096367837,\n",
       " 'FDS10': 0.04111971525,\n",
       " 'FDS11': 0.06253156833333334,\n",
       " 'FDS12': 0.21571473433333332,\n",
       " 'FDS13': 0.1321813532857143,\n",
       " 'FDS14': 0.0374854875,\n",
       " 'FDS15': 0.08693611683333334,\n",
       " 'FDS16': 0.056839296857142854,\n",
       " 'FDS19': 0.06127194842857143,\n",
       " 'FDS20': 0.053980127249999996,\n",
       " 'FDS21': 0.0268444844,\n",
       " 'FDS22': 0.023163629,\n",
       " 'FDS23': 0.1587332098333333,\n",
       " 'FDS24': 0.06229328983333334,\n",
       " 'FDS25': 0.14020219920000002,\n",
       " 'FDS26': 0.1015534948,\n",
       " 'FDS27': 0.013809119428571428,\n",
       " 'FDS28': 0.08248927828571428,\n",
       " 'FDS31': 0.03156867528571429,\n",
       " 'FDS32': 0.028281253,\n",
       " 'FDS33': 0.1196398815,\n",
       " 'FDS34': 0.076823669,\n",
       " 'FDS35': 0.11133328583333334,\n",
       " 'FDS36': 0.04695155933333334,\n",
       " 'FDS37': 0.035576003333333335,\n",
       " 'FDS39': 0.022460437333333333,\n",
       " 'FDS40': 0.016879810999999998,\n",
       " 'FDS43': 0.040548982,\n",
       " 'FDS44': 0.1757396485,\n",
       " 'FDS45': 0.03554432128571429,\n",
       " 'FDS46': 0.054460816200000005,\n",
       " 'FDS47': 0.09217520514285715,\n",
       " 'FDS48': 0.03434813166666667,\n",
       " 'FDS49': 0.06364979820000001,\n",
       " 'FDS50': 0.0555614165,\n",
       " 'FDS51': 0.03214522633333333,\n",
       " 'FDS52': 0.006454037500000001,\n",
       " 'FDS55': 0.07867087774999999,\n",
       " 'FDS56': 0.043149211166666666,\n",
       " 'FDS57': 0.09969709442857143,\n",
       " 'FDS58': 0.0168160522,\n",
       " 'FDS59': 0.05282829428571429,\n",
       " 'FDS60': 0.03247328425,\n",
       " 'FDT01': 0.18459310150000002,\n",
       " 'FDT02': 0.02425244075,\n",
       " 'FDT03': 0.010970815714285712,\n",
       " 'FDT04': 0.064385506,\n",
       " 'FDT07': 0.075229446,\n",
       " 'FDT08': 0.049246187,\n",
       " 'FDT09': 0.013806592666666668,\n",
       " 'FDT10': 0.0691250335,\n",
       " 'FDT11': 0.032693859666666665,\n",
       " 'FDT12': 0.05444123214285714,\n",
       " 'FDT13': 0.0176666012,\n",
       " 'FDT14': 0.1276813698,\n",
       " 'FDT15': 0.0548909486,\n",
       " 'FDT16': 0.0486897424,\n",
       " 'FDT19': 0.14509834300000002,\n",
       " 'FDT20': 0.04137970766666667,\n",
       " 'FDT21': 0.017874195125,\n",
       " 'FDT22': 0.1121560608,\n",
       " 'FDT23': 0.07483347339999999,\n",
       " 'FDT24': 0.155202514,\n",
       " 'FDT25': 0.05084009171428572,\n",
       " 'FDT26': 0.0679832325,\n",
       " 'FDT27': 0.06953378679999998,\n",
       " 'FDT28': 0.06365323333333334,\n",
       " 'FDT31': 0.012474187999999997,\n",
       " 'FDT32': 0.07737353925000001,\n",
       " 'FDT33': 0.034086311499999994,\n",
       " 'FDT34': 0.19145948257142859,\n",
       " 'FDT35': 0.081916124,\n",
       " 'FDT36': 0.1052482195,\n",
       " 'FDT37': 0.033545499199999995,\n",
       " 'FDT38': 0.05768428666666667,\n",
       " 'FDT39': 0.011215566399999998,\n",
       " 'FDT40': 0.092884995,\n",
       " 'FDT43': 0.02256434642857143,\n",
       " 'FDT44': 0.10324937466666667,\n",
       " 'FDT45': 0.04304074075,\n",
       " 'FDT46': 0.032706532142857146,\n",
       " 'FDT47': 0.024498543333333334,\n",
       " 'FDT48': 0.03837591683333333,\n",
       " 'FDT49': 0.13259144074999998,\n",
       " 'FDT50': 0.09020344516666667,\n",
       " 'FDT51': 0.01481654525,\n",
       " 'FDT52': 0.04753483,\n",
       " 'FDT55': 0.04230561925,\n",
       " 'FDT56': 0.13119426260000003,\n",
       " 'FDT57': 0.02117664783333333,\n",
       " 'FDT58': 0.09569693966666666,\n",
       " 'FDT59': 0.013277364666666666,\n",
       " 'FDT60': 0.08707137520000001,\n",
       " 'FDU01': 0.014249436500000002,\n",
       " 'FDU02': 0.1136279807142857,\n",
       " 'FDU03': 0.09186916733333333,\n",
       " 'FDU04': 0.0041638086,\n",
       " 'FDU07': 0.067362084,\n",
       " 'FDU08': 0.027303192,\n",
       " 'FDU09': 0.06648766,\n",
       " 'FDU10': 0.04581142225,\n",
       " 'FDU11': 0.09268461350000001,\n",
       " 'FDU12': 0.08775726466666665,\n",
       " 'FDU13': 0.18202552225,\n",
       " 'FDU14': 0.039415002600000006,\n",
       " 'FDU15': 0.020725321833333334,\n",
       " 'FDU16': 0.038864105,\n",
       " 'FDU19': 0.040973457375,\n",
       " 'FDU20': 0.023769590142857143,\n",
       " 'FDU21': 0.08498704314285714,\n",
       " 'FDU22': 0.08877900259999999,\n",
       " 'FDU23': 0.020842572875,\n",
       " 'FDU24': 0.11100176216666668,\n",
       " 'FDU25': 0.026712826000000002,\n",
       " 'FDU26': 0.05133099514285715,\n",
       " 'FDU27': 0.1946376232,\n",
       " 'FDU28': 0.1081142652,\n",
       " 'FDU31': 0.0250122585,\n",
       " 'FDU32': 0.020539695166666667,\n",
       " 'FDU33': 0.1667092285,\n",
       " 'FDU34': 0.07527494614285714,\n",
       " 'FDU35': 0.05285551125,\n",
       " 'FDU36': 0.04465462628571428,\n",
       " 'FDU37': 0.08356914580000001,\n",
       " 'FDU38': 0.09934831071428572,\n",
       " 'FDU39': 0.0360783525,\n",
       " ...}"
      ]
     },
     "execution_count": 22,
     "metadata": {},
     "output_type": "execute_result"
    }
   ],
   "source": [
    "dict_grp_item_id = df_train.groupby(\"Item_Identifier\")[\"Item_Visibility\"].mean().to_dict()\n",
    "dict_grp_item_id"
   ]
  },
  {
   "cell_type": "code",
   "execution_count": 23,
   "metadata": {},
   "outputs": [],
   "source": [
    "df_train['Item_Visibility'] = df_train.apply(lambda row: dict_grp_item_id[row['Item_Identifier']] if (row['Item_Visibility'] == 0.00) else row['Item_Visibility'],axis=1)\n",
    "df_test['Item_Visibility'] = df_test.apply(lambda row: dict_grp_item_id[row['Item_Identifier']] if (row['Item_Visibility']== 0.00) else row['Item_Visibility'],axis=1)"
   ]
  },
  {
   "cell_type": "code",
   "execution_count": 24,
   "metadata": {},
   "outputs": [
    {
     "data": {
      "text/plain": [
       "0"
      ]
     },
     "execution_count": 24,
     "metadata": {},
     "output_type": "execute_result"
    }
   ],
   "source": [
    "len(df_train[df_train['Item_Visibility']==0.0])"
   ]
  },
  {
   "cell_type": "code",
   "execution_count": 25,
   "metadata": {},
   "outputs": [
    {
     "data": {
      "text/plain": [
       "0"
      ]
     },
     "execution_count": 25,
     "metadata": {},
     "output_type": "execute_result"
    }
   ],
   "source": [
    "len(df_test[df_test['Item_Visibility']==0.0])"
   ]
  },
  {
   "cell_type": "code",
   "execution_count": 26,
   "metadata": {},
   "outputs": [
    {
     "data": {
      "image/png": "[encoded data removed]",
      "text/plain": [
       "<Figure size 720x720 with 1 Axes>"
      ]
     },
     "metadata": {
      "needs_background": "light"
     },
     "output_type": "display_data"
    }
   ],
   "source": [
    "df_Item_type_grp = df_train[[\"Item_Type\",\"Item_Outlet_Sales\"]].groupby([\"Item_Type\"]).sum()\n",
    "df_Item_type_grp.reset_index(inplace=True)\n",
    "df_Item_type_grp[\"Item_Outlet_Sales\"] = df_Item_type_grp[\"Item_Outlet_Sales\"].astype(int)\n",
    "df_Item_type_grp\n",
    "plt.figure(figsize=(10,10))\n",
    "ax = sns.barplot(x = df_Item_type_grp[\"Item_Type\"],  y=df_Item_type_grp[\"Item_Outlet_Sales\"])\n",
    "ax.set_xticklabels(ax.get_xticklabels(), rotation=40, ha=\"right\")\n",
    "plt.show()"
   ]
  },
  {
   "cell_type": "markdown",
   "metadata": {},
   "source": [
    "#### Changing Fat Content"
   ]
  },
  {
   "cell_type": "code",
   "execution_count": 27,
   "metadata": {},
   "outputs": [
    {
     "data": {
      "text/plain": [
       "Low Fat     4438\n",
       "Regular     3006\n",
       "Inedible    1079\n",
       "Name: Item_Fat_Content, dtype: int64"
      ]
     },
     "execution_count": 27,
     "metadata": {},
     "output_type": "execute_result"
    }
   ],
   "source": [
    "df_train['Item_Fat_Content'] = df_train['Item_Fat_Content'].replace({'LF':'Low Fat','reg':'Regular','low fat':'Low Fat'})\n",
    "fc = \"Inedible\"\n",
    "df_train['Item_Fat_Content'] = df_train.apply(lambda row:fc if (row['Item_Type'] in [\"Household\",\"Others\"]) else (row['Item_Fat_Content']),axis=1)\n",
    "df_train['Item_Fat_Content'].value_counts()"
   ]
  },
  {
   "cell_type": "code",
   "execution_count": 28,
   "metadata": {},
   "outputs": [
    {
     "data": {
      "text/plain": [
       "Low Fat     2919\n",
       "Regular     2013\n",
       "Inedible     749\n",
       "Name: Item_Fat_Content, dtype: int64"
      ]
     },
     "execution_count": 28,
     "metadata": {},
     "output_type": "execute_result"
    }
   ],
   "source": [
    "df_test['Item_Fat_Content'] = df_test['Item_Fat_Content'].replace({'LF':'Low Fat','reg':'Regular','low fat':'Low Fat'})\n",
    "fc = \"Inedible\"\n",
    "df_test['Item_Fat_Content'] = df_test.apply(lambda row:fc if (row['Item_Type'] in [\"Household\",\"Others\"]) else (row['Item_Fat_Content']),axis=1)\n",
    "df_test['Item_Fat_Content'].value_counts()"
   ]
  },
  {
   "cell_type": "code",
   "execution_count": 29,
   "metadata": {},
   "outputs": [
    {
     "data": {
      "text/html": [
       "<div>\n",
       "<style scoped>\n",
       "    .dataframe tbody tr th:only-of-type {\n",
       "        vertical-align: middle;\n",
       "    }\n",
       "\n",
       "    .dataframe tbody tr th {\n",
       "        vertical-align: top;\n",
       "    }\n",
       "\n",
       "    .dataframe thead th {\n",
       "        text-align: right;\n",
       "    }\n",
       "</style>\n",
       "<table border=\"1\" class=\"dataframe\">\n",
       "  <thead>\n",
       "    <tr style=\"text-align: right;\">\n",
       "      <th></th>\n",
       "      <th>Outlet_Identifier</th>\n",
       "      <th>Item_Outlet_Sales</th>\n",
       "    </tr>\n",
       "  </thead>\n",
       "  <tbody>\n",
       "    <tr>\n",
       "      <th>0</th>\n",
       "      <td>OUT010</td>\n",
       "      <td>188340</td>\n",
       "    </tr>\n",
       "    <tr>\n",
       "      <th>1</th>\n",
       "      <td>OUT013</td>\n",
       "      <td>2142663</td>\n",
       "    </tr>\n",
       "    <tr>\n",
       "      <th>2</th>\n",
       "      <td>OUT017</td>\n",
       "      <td>2167465</td>\n",
       "    </tr>\n",
       "    <tr>\n",
       "      <th>3</th>\n",
       "      <td>OUT018</td>\n",
       "      <td>1851822</td>\n",
       "    </tr>\n",
       "    <tr>\n",
       "      <th>4</th>\n",
       "      <td>OUT019</td>\n",
       "      <td>179694</td>\n",
       "    </tr>\n",
       "    <tr>\n",
       "      <th>5</th>\n",
       "      <td>OUT027</td>\n",
       "      <td>3453926</td>\n",
       "    </tr>\n",
       "    <tr>\n",
       "      <th>6</th>\n",
       "      <td>OUT035</td>\n",
       "      <td>2268122</td>\n",
       "    </tr>\n",
       "    <tr>\n",
       "      <th>7</th>\n",
       "      <td>OUT045</td>\n",
       "      <td>2036725</td>\n",
       "    </tr>\n",
       "    <tr>\n",
       "      <th>8</th>\n",
       "      <td>OUT046</td>\n",
       "      <td>2118395</td>\n",
       "    </tr>\n",
       "    <tr>\n",
       "      <th>9</th>\n",
       "      <td>OUT049</td>\n",
       "      <td>2183969</td>\n",
       "    </tr>\n",
       "  </tbody>\n",
       "</table>\n",
       "</div>"
      ],
      "text/plain": [
       "  Outlet_Identifier  Item_Outlet_Sales\n",
       "0            OUT010             188340\n",
       "1            OUT013            2142663\n",
       "2            OUT017            2167465\n",
       "3            OUT018            1851822\n",
       "4            OUT019             179694\n",
       "5            OUT027            3453926\n",
       "6            OUT035            2268122\n",
       "7            OUT045            2036725\n",
       "8            OUT046            2118395\n",
       "9            OUT049            2183969"
      ]
     },
     "execution_count": 29,
     "metadata": {},
     "output_type": "execute_result"
    }
   ],
   "source": [
    "df_outlet_grp = df_train[[\"Outlet_Identifier\",\"Item_Outlet_Sales\"]].groupby(\"Outlet_Identifier\").sum()\n",
    "df_outlet_grp.reset_index(level=0,inplace=True)\n",
    "df_outlet_grp[\"Item_Outlet_Sales\"] = df_outlet_grp[\"Item_Outlet_Sales\"].astype(int)\n",
    "df_outlet_grp"
   ]
  },
  {
   "cell_type": "code",
   "execution_count": 30,
   "metadata": {},
   "outputs": [
    {
     "data": {
      "image/png": "[encoded data removed]",
      "text/plain": [
       "<Figure size 720x720 with 1 Axes>"
      ]
     },
     "metadata": {
      "needs_background": "light"
     },
     "output_type": "display_data"
    }
   ],
   "source": [
    "plt.figure(figsize=(10,10))\n",
    "ax = sns.barplot(y=df_outlet_grp[\"Item_Outlet_Sales\"] , x=df_outlet_grp[\"Outlet_Identifier\"] )\n",
    "# ax.set(ylim=(179600, 3453950))\n",
    "plt.show()"
   ]
  },
  {
   "cell_type": "code",
   "execution_count": 31,
   "metadata": {},
   "outputs": [
    {
     "data": {
      "text/plain": [
       "Small     4798\n",
       "Medium    2793\n",
       "High       932\n",
       "Name: Outlet_Size, dtype: int64"
      ]
     },
     "execution_count": 31,
     "metadata": {},
     "output_type": "execute_result"
    }
   ],
   "source": [
    "df_train[\"Outlet_Size\"].value_counts()"
   ]
  },
  {
   "cell_type": "code",
   "execution_count": 32,
   "metadata": {},
   "outputs": [
    {
     "data": {
      "text/plain": [
       "Tier 3    3350\n",
       "Tier 2    2785\n",
       "Tier 1    2388\n",
       "Name: Outlet_Location_Type, dtype: int64"
      ]
     },
     "execution_count": 32,
     "metadata": {},
     "output_type": "execute_result"
    }
   ],
   "source": [
    "df_train[\"Outlet_Location_Type\"].value_counts()"
   ]
  },
  {
   "cell_type": "code",
   "execution_count": 33,
   "metadata": {},
   "outputs": [
    {
     "data": {
      "text/plain": [
       "<matplotlib.axes._subplots.AxesSubplot at 0x24422b36bc8>"
      ]
     },
     "execution_count": 33,
     "metadata": {},
     "output_type": "execute_result"
    },
    {
     "data": {
      "image/png": "[encoded data removed]",
      "text/plain": [
       "<Figure size 720x720 with 1 Axes>"
      ]
     },
     "metadata": {
      "needs_background": "light"
     },
     "output_type": "display_data"
    }
   ],
   "source": [
    "df_outlet_loc_type_grp = df_train[[\"Outlet_Location_Type\",\"Item_Outlet_Sales\"]].groupby([\"Outlet_Location_Type\"]).sum()\n",
    "df_outlet_loc_type_grp.reset_index(inplace=True)\n",
    "df_outlet_loc_type_grp[\"Item_Outlet_Sales\"] = df_outlet_loc_type_grp[\"Item_Outlet_Sales\"].astype(int)\n",
    "df_outlet_loc_type_grp\n",
    "plt.figure(figsize=(10,10))\n",
    "sns.barplot(x = df_outlet_loc_type_grp[\"Outlet_Location_Type\"],  y=df_outlet_loc_type_grp[\"Item_Outlet_Sales\"])"
   ]
  },
  {
   "cell_type": "code",
   "execution_count": 34,
   "metadata": {
    "scrolled": true
   },
   "outputs": [
    {
     "data": {
      "text/plain": [
       "Supermarket Type1    5577\n",
       "Grocery Store        1083\n",
       "Supermarket Type3     935\n",
       "Supermarket Type2     928\n",
       "Name: Outlet_Type, dtype: int64"
      ]
     },
     "execution_count": 34,
     "metadata": {},
     "output_type": "execute_result"
    }
   ],
   "source": [
    "df_train[\"Outlet_Type\"].value_counts()"
   ]
  },
  {
   "cell_type": "code",
   "execution_count": 35,
   "metadata": {},
   "outputs": [
    {
     "data": {
      "text/plain": [
       "<matplotlib.axes._subplots.AxesSubplot at 0x244229dab88>"
      ]
     },
     "execution_count": 35,
     "metadata": {},
     "output_type": "execute_result"
    },
    {
     "data": {
      "image/png": "[encoded data removed]",
      "text/plain": [
       "<Figure size 720x720 with 1 Axes>"
      ]
     },
     "metadata": {
      "needs_background": "light"
     },
     "output_type": "display_data"
    }
   ],
   "source": [
    "df_outlet_type_grp = df_train[[\"Outlet_Type\",\"Item_Outlet_Sales\"]].groupby([\"Outlet_Type\"]).sum()\n",
    "df_outlet_type_grp.reset_index(inplace=True)\n",
    "df_outlet_type_grp[\"Item_Outlet_Sales\"] = df_outlet_type_grp[\"Item_Outlet_Sales\"].astype(int)\n",
    "df_outlet_type_grp\n",
    "plt.figure(figsize=(10,10))\n",
    "sns.barplot(x = df_outlet_type_grp[\"Outlet_Type\"],  y=df_outlet_type_grp[\"Item_Outlet_Sales\"])"
   ]
  },
  {
   "cell_type": "code",
   "execution_count": 36,
   "metadata": {
    "scrolled": false
   },
   "outputs": [
    {
     "data": {
      "text/plain": [
       "<matplotlib.axes._subplots.AxesSubplot at 0x2442222c688>"
      ]
     },
     "execution_count": 36,
     "metadata": {},
     "output_type": "execute_result"
    },
    {
     "data": {
      "image/png": "[encoded data removed]",
      "text/plain": [
       "<Figure size 720x720 with 1 Axes>"
      ]
     },
     "metadata": {
      "needs_background": "light"
     },
     "output_type": "display_data"
    }
   ],
   "source": [
    "df_outlet_type_loc_grp = df_train[[\"Outlet_Type\",\"Item_Outlet_Sales\",\"Outlet_Location_Type\"]].groupby([\"Outlet_Type\",\"Outlet_Location_Type\"]).sum()\n",
    "df_outlet_type_loc_grp.reset_index(inplace=True)\n",
    "df_outlet_type_loc_grp[\"Item_Outlet_Sales\"] = df_outlet_type_loc_grp[\"Item_Outlet_Sales\"].astype(int)\n",
    "df_outlet_type_loc_grp\n",
    "plt.figure(figsize=(10,10))\n",
    "sns.barplot(x = df_outlet_type_loc_grp[\"Outlet_Type\"], hue = df_outlet_type_loc_grp[\"Outlet_Location_Type\"], y=df_outlet_type_loc_grp[\"Item_Outlet_Sales\"])"
   ]
  },
  {
   "cell_type": "markdown",
   "metadata": {},
   "source": [
    "#### OUTLET DETAILS"
   ]
  },
  {
   "cell_type": "code",
   "execution_count": 37,
   "metadata": {
    "scrolled": true
   },
   "outputs": [
    {
     "data": {
      "text/html": [
       "<div>\n",
       "<style scoped>\n",
       "    .dataframe tbody tr th:only-of-type {\n",
       "        vertical-align: middle;\n",
       "    }\n",
       "\n",
       "    .dataframe tbody tr th {\n",
       "        vertical-align: top;\n",
       "    }\n",
       "\n",
       "    .dataframe thead th {\n",
       "        text-align: right;\n",
       "    }\n",
       "</style>\n",
       "<table border=\"1\" class=\"dataframe\">\n",
       "  <thead>\n",
       "    <tr style=\"text-align: right;\">\n",
       "      <th></th>\n",
       "      <th>Outlet_Identifier</th>\n",
       "      <th>Outlet_Establishment_Year</th>\n",
       "      <th>Outlet_Type</th>\n",
       "      <th>Outlet_Location_Type</th>\n",
       "      <th>Outlet_Size</th>\n",
       "      <th>Item_Outlet_Sales</th>\n",
       "    </tr>\n",
       "  </thead>\n",
       "  <tbody>\n",
       "    <tr>\n",
       "      <th>0</th>\n",
       "      <td>OUT010</td>\n",
       "      <td>1998</td>\n",
       "      <td>Grocery Store</td>\n",
       "      <td>Tier 3</td>\n",
       "      <td>Small</td>\n",
       "      <td>188340</td>\n",
       "    </tr>\n",
       "    <tr>\n",
       "      <th>1</th>\n",
       "      <td>OUT013</td>\n",
       "      <td>1987</td>\n",
       "      <td>Supermarket Type1</td>\n",
       "      <td>Tier 3</td>\n",
       "      <td>High</td>\n",
       "      <td>2142663</td>\n",
       "    </tr>\n",
       "    <tr>\n",
       "      <th>2</th>\n",
       "      <td>OUT017</td>\n",
       "      <td>2007</td>\n",
       "      <td>Supermarket Type1</td>\n",
       "      <td>Tier 2</td>\n",
       "      <td>Small</td>\n",
       "      <td>2167465</td>\n",
       "    </tr>\n",
       "    <tr>\n",
       "      <th>3</th>\n",
       "      <td>OUT018</td>\n",
       "      <td>2009</td>\n",
       "      <td>Supermarket Type2</td>\n",
       "      <td>Tier 3</td>\n",
       "      <td>Medium</td>\n",
       "      <td>1851822</td>\n",
       "    </tr>\n",
       "    <tr>\n",
       "      <th>4</th>\n",
       "      <td>OUT019</td>\n",
       "      <td>1985</td>\n",
       "      <td>Grocery Store</td>\n",
       "      <td>Tier 1</td>\n",
       "      <td>Small</td>\n",
       "      <td>179694</td>\n",
       "    </tr>\n",
       "    <tr>\n",
       "      <th>5</th>\n",
       "      <td>OUT027</td>\n",
       "      <td>1985</td>\n",
       "      <td>Supermarket Type3</td>\n",
       "      <td>Tier 3</td>\n",
       "      <td>Medium</td>\n",
       "      <td>3453926</td>\n",
       "    </tr>\n",
       "    <tr>\n",
       "      <th>6</th>\n",
       "      <td>OUT035</td>\n",
       "      <td>2004</td>\n",
       "      <td>Supermarket Type1</td>\n",
       "      <td>Tier 2</td>\n",
       "      <td>Small</td>\n",
       "      <td>2268122</td>\n",
       "    </tr>\n",
       "    <tr>\n",
       "      <th>7</th>\n",
       "      <td>OUT045</td>\n",
       "      <td>2002</td>\n",
       "      <td>Supermarket Type1</td>\n",
       "      <td>Tier 2</td>\n",
       "      <td>Small</td>\n",
       "      <td>2036725</td>\n",
       "    </tr>\n",
       "    <tr>\n",
       "      <th>8</th>\n",
       "      <td>OUT046</td>\n",
       "      <td>1997</td>\n",
       "      <td>Supermarket Type1</td>\n",
       "      <td>Tier 1</td>\n",
       "      <td>Small</td>\n",
       "      <td>2118395</td>\n",
       "    </tr>\n",
       "    <tr>\n",
       "      <th>9</th>\n",
       "      <td>OUT049</td>\n",
       "      <td>1999</td>\n",
       "      <td>Supermarket Type1</td>\n",
       "      <td>Tier 1</td>\n",
       "      <td>Medium</td>\n",
       "      <td>2183969</td>\n",
       "    </tr>\n",
       "  </tbody>\n",
       "</table>\n",
       "</div>"
      ],
      "text/plain": [
       "  Outlet_Identifier  Outlet_Establishment_Year        Outlet_Type  \\\n",
       "0            OUT010                       1998      Grocery Store   \n",
       "1            OUT013                       1987  Supermarket Type1   \n",
       "2            OUT017                       2007  Supermarket Type1   \n",
       "3            OUT018                       2009  Supermarket Type2   \n",
       "4            OUT019                       1985      Grocery Store   \n",
       "5            OUT027                       1985  Supermarket Type3   \n",
       "6            OUT035                       2004  Supermarket Type1   \n",
       "7            OUT045                       2002  Supermarket Type1   \n",
       "8            OUT046                       1997  Supermarket Type1   \n",
       "9            OUT049                       1999  Supermarket Type1   \n",
       "\n",
       "  Outlet_Location_Type Outlet_Size  Item_Outlet_Sales  \n",
       "0               Tier 3       Small             188340  \n",
       "1               Tier 3        High            2142663  \n",
       "2               Tier 2       Small            2167465  \n",
       "3               Tier 3      Medium            1851822  \n",
       "4               Tier 1       Small             179694  \n",
       "5               Tier 3      Medium            3453926  \n",
       "6               Tier 2       Small            2268122  \n",
       "7               Tier 2       Small            2036725  \n",
       "8               Tier 1       Small            2118395  \n",
       "9               Tier 1      Medium            2183969  "
      ]
     },
     "execution_count": 37,
     "metadata": {},
     "output_type": "execute_result"
    }
   ],
   "source": [
    "df_1 = df_train[[\"Outlet_Identifier\",\"Outlet_Establishment_Year\",\"Outlet_Size\",\"Outlet_Type\",\"Outlet_Location_Type\",\"Item_Outlet_Sales\"]]\n",
    "df_outlet_grp_yr = pd.DataFrame(df_1.groupby([\"Outlet_Identifier\",\"Outlet_Establishment_Year\",\"Outlet_Type\",\"Outlet_Location_Type\",\"Outlet_Size\"]).sum())\n",
    "df_outlet_grp_yr.reset_index(inplace=True)\n",
    "df_outlet_grp_yr[\"Item_Outlet_Sales\"] = df_outlet_grp_yr[\"Item_Outlet_Sales\"].astype(\"int\")\n",
    "df_outlet_grp_yr\n",
    "# df_1"
   ]
  },
  {
   "cell_type": "code",
   "execution_count": 38,
   "metadata": {},
   "outputs": [
    {
     "data": {
      "text/plain": [
       "<matplotlib.axes._subplots.AxesSubplot at 0x244221d21c8>"
      ]
     },
     "execution_count": 38,
     "metadata": {},
     "output_type": "execute_result"
    },
    {
     "data": {
      "image/png": "[encoded data removed]",
      "text/plain": [
       "<Figure size 720x720 with 2 Axes>"
      ]
     },
     "metadata": {
      "needs_background": "light"
     },
     "output_type": "display_data"
    }
   ],
   "source": [
    "plt.figure(figsize=(10,10))\n",
    "sns.heatmap(df_train.corr(),annot=True, vmin=-1, vmax=1)"
   ]
  },
  {
   "cell_type": "code",
   "execution_count": 39,
   "metadata": {},
   "outputs": [
    {
     "data": {
      "text/html": [
       "<div>\n",
       "<style scoped>\n",
       "    .dataframe tbody tr th:only-of-type {\n",
       "        vertical-align: middle;\n",
       "    }\n",
       "\n",
       "    .dataframe tbody tr th {\n",
       "        vertical-align: top;\n",
       "    }\n",
       "\n",
       "    .dataframe thead th {\n",
       "        text-align: right;\n",
       "    }\n",
       "</style>\n",
       "<table border=\"1\" class=\"dataframe\">\n",
       "  <thead>\n",
       "    <tr style=\"text-align: right;\">\n",
       "      <th></th>\n",
       "      <th>Item_Identifier</th>\n",
       "      <th>Item_Weight</th>\n",
       "      <th>Item_Fat_Content</th>\n",
       "      <th>Item_Visibility</th>\n",
       "      <th>Item_Type</th>\n",
       "      <th>Item_MRP</th>\n",
       "      <th>Outlet_Identifier</th>\n",
       "      <th>Outlet_Establishment_Year</th>\n",
       "      <th>Outlet_Size</th>\n",
       "      <th>Outlet_Location_Type</th>\n",
       "      <th>Outlet_Type</th>\n",
       "      <th>Item_Outlet_Sales</th>\n",
       "    </tr>\n",
       "  </thead>\n",
       "  <tbody>\n",
       "    <tr>\n",
       "      <th>0</th>\n",
       "      <td>FDA15</td>\n",
       "      <td>9.30</td>\n",
       "      <td>Low Fat</td>\n",
       "      <td>0.016047</td>\n",
       "      <td>Dairy</td>\n",
       "      <td>249.8092</td>\n",
       "      <td>OUT049</td>\n",
       "      <td>1999</td>\n",
       "      <td>Medium</td>\n",
       "      <td>Tier 1</td>\n",
       "      <td>Supermarket Type1</td>\n",
       "      <td>3735.1380</td>\n",
       "    </tr>\n",
       "    <tr>\n",
       "      <th>1</th>\n",
       "      <td>DRC01</td>\n",
       "      <td>5.92</td>\n",
       "      <td>Regular</td>\n",
       "      <td>0.019278</td>\n",
       "      <td>Soft Drinks</td>\n",
       "      <td>48.2692</td>\n",
       "      <td>OUT018</td>\n",
       "      <td>2009</td>\n",
       "      <td>Medium</td>\n",
       "      <td>Tier 3</td>\n",
       "      <td>Supermarket Type2</td>\n",
       "      <td>443.4228</td>\n",
       "    </tr>\n",
       "    <tr>\n",
       "      <th>2</th>\n",
       "      <td>FDN15</td>\n",
       "      <td>17.50</td>\n",
       "      <td>Low Fat</td>\n",
       "      <td>0.016760</td>\n",
       "      <td>Meat</td>\n",
       "      <td>141.6180</td>\n",
       "      <td>OUT049</td>\n",
       "      <td>1999</td>\n",
       "      <td>Medium</td>\n",
       "      <td>Tier 1</td>\n",
       "      <td>Supermarket Type1</td>\n",
       "      <td>2097.2700</td>\n",
       "    </tr>\n",
       "    <tr>\n",
       "      <th>3</th>\n",
       "      <td>FDX07</td>\n",
       "      <td>19.20</td>\n",
       "      <td>Regular</td>\n",
       "      <td>0.015274</td>\n",
       "      <td>Fruits and Vegetables</td>\n",
       "      <td>182.0950</td>\n",
       "      <td>OUT010</td>\n",
       "      <td>1998</td>\n",
       "      <td>Small</td>\n",
       "      <td>Tier 3</td>\n",
       "      <td>Grocery Store</td>\n",
       "      <td>732.3800</td>\n",
       "    </tr>\n",
       "    <tr>\n",
       "      <th>4</th>\n",
       "      <td>NCD19</td>\n",
       "      <td>8.93</td>\n",
       "      <td>Inedible</td>\n",
       "      <td>0.008082</td>\n",
       "      <td>Household</td>\n",
       "      <td>53.8614</td>\n",
       "      <td>OUT013</td>\n",
       "      <td>1987</td>\n",
       "      <td>High</td>\n",
       "      <td>Tier 3</td>\n",
       "      <td>Supermarket Type1</td>\n",
       "      <td>994.7052</td>\n",
       "    </tr>\n",
       "  </tbody>\n",
       "</table>\n",
       "</div>"
      ],
      "text/plain": [
       "  Item_Identifier  Item_Weight Item_Fat_Content  Item_Visibility  \\\n",
       "0           FDA15         9.30          Low Fat         0.016047   \n",
       "1           DRC01         5.92          Regular         0.019278   \n",
       "2           FDN15        17.50          Low Fat         0.016760   \n",
       "3           FDX07        19.20          Regular         0.015274   \n",
       "4           NCD19         8.93         Inedible         0.008082   \n",
       "\n",
       "               Item_Type  Item_MRP Outlet_Identifier  \\\n",
       "0                  Dairy  249.8092            OUT049   \n",
       "1            Soft Drinks   48.2692            OUT018   \n",
       "2                   Meat  141.6180            OUT049   \n",
       "3  Fruits and Vegetables  182.0950            OUT010   \n",
       "4              Household   53.8614            OUT013   \n",
       "\n",
       "   Outlet_Establishment_Year Outlet_Size Outlet_Location_Type  \\\n",
       "0                       1999      Medium               Tier 1   \n",
       "1                       2009      Medium               Tier 3   \n",
       "2                       1999      Medium               Tier 1   \n",
       "3                       1998       Small               Tier 3   \n",
       "4                       1987        High               Tier 3   \n",
       "\n",
       "         Outlet_Type  Item_Outlet_Sales  \n",
       "0  Supermarket Type1          3735.1380  \n",
       "1  Supermarket Type2           443.4228  \n",
       "2  Supermarket Type1          2097.2700  \n",
       "3      Grocery Store           732.3800  \n",
       "4  Supermarket Type1           994.7052  "
      ]
     },
     "execution_count": 39,
     "metadata": {},
     "output_type": "execute_result"
    }
   ],
   "source": [
    "df_train.head()"
   ]
  },
  {
   "cell_type": "markdown",
   "metadata": {},
   "source": [
    "#### Data PreProcessing"
   ]
  },
  {
   "cell_type": "code",
   "execution_count": 40,
   "metadata": {},
   "outputs": [
    {
     "name": "stdout",
     "output_type": "stream",
     "text": [
      "Train Item_Type :  16\n",
      "Test Item_Type :  16\n"
     ]
    }
   ],
   "source": [
    "print(\"Train Item_Type : \",len(df_train[\"Item_Type\"].unique()))\n",
    "print(\"Test Item_Type : \",len(df_test[\"Item_Type\"].unique()))"
   ]
  },
  {
   "cell_type": "code",
   "execution_count": 41,
   "metadata": {},
   "outputs": [
    {
     "name": "stdout",
     "output_type": "stream",
     "text": [
      "Train Outlet_Size :  3\n",
      "Test Outlet_Size :  3\n"
     ]
    }
   ],
   "source": [
    "print(\"Train Outlet_Size : \",len(df_train[\"Outlet_Size\"].unique()))\n",
    "print(\"Test Outlet_Size : \",len(df_test[\"Outlet_Size\"].unique()))"
   ]
  },
  {
   "cell_type": "code",
   "execution_count": 42,
   "metadata": {},
   "outputs": [
    {
     "name": "stdout",
     "output_type": "stream",
     "text": [
      "Train Outlet_Location_Type:  3\n",
      "Test Outlet_Location_Type :  3\n"
     ]
    }
   ],
   "source": [
    "print(\"Train Outlet_Location_Type: \",len(df_train[\"Outlet_Location_Type\"].unique()))\n",
    "print(\"Test Outlet_Location_Type : \",len(df_test[\"Outlet_Location_Type\"].unique()))"
   ]
  },
  {
   "cell_type": "code",
   "execution_count": 43,
   "metadata": {},
   "outputs": [
    {
     "name": "stdout",
     "output_type": "stream",
     "text": [
      "Train Outlet_Type :  4\n",
      "Test Outlet_Type :  4\n"
     ]
    }
   ],
   "source": [
    "print(\"Train Outlet_Type : \",len(df_train[\"Outlet_Type\"].unique()))\n",
    "print(\"Test Outlet_Type : \",len(df_test[\"Outlet_Type\"].unique()))"
   ]
  },
  {
   "cell_type": "code",
   "execution_count": 44,
   "metadata": {},
   "outputs": [
    {
     "name": "stdout",
     "output_type": "stream",
     "text": [
      "Train Outlet_Identifier :  10\n",
      "Test Outlet_Identifier :  10\n"
     ]
    }
   ],
   "source": [
    "print(\"Train Outlet_Identifier : \",len(df_train[\"Outlet_Identifier\"].unique()))\n",
    "print(\"Test Outlet_Identifier : \",len(df_test[\"Outlet_Identifier\"].unique()))"
   ]
  },
  {
   "cell_type": "code",
   "execution_count": 45,
   "metadata": {},
   "outputs": [
    {
     "data": {
      "text/plain": [
       "Index(['Item_Identifier', 'Item_Weight', 'Item_Fat_Content', 'Item_Visibility',\n",
       "       'Item_Type', 'Item_MRP', 'Outlet_Identifier',\n",
       "       'Outlet_Establishment_Year', 'Outlet_Size', 'Outlet_Location_Type',\n",
       "       'Outlet_Type', 'Item_Outlet_Sales'],\n",
       "      dtype='object')"
      ]
     },
     "execution_count": 45,
     "metadata": {},
     "output_type": "execute_result"
    }
   ],
   "source": [
    "df_train.columns"
   ]
  },
  {
   "cell_type": "code",
   "execution_count": 46,
   "metadata": {},
   "outputs": [
    {
     "data": {
      "text/html": [
       "<div>\n",
       "<style scoped>\n",
       "    .dataframe tbody tr th:only-of-type {\n",
       "        vertical-align: middle;\n",
       "    }\n",
       "\n",
       "    .dataframe tbody tr th {\n",
       "        vertical-align: top;\n",
       "    }\n",
       "\n",
       "    .dataframe thead th {\n",
       "        text-align: right;\n",
       "    }\n",
       "</style>\n",
       "<table border=\"1\" class=\"dataframe\">\n",
       "  <thead>\n",
       "    <tr style=\"text-align: right;\">\n",
       "      <th></th>\n",
       "      <th>Item_Identifier</th>\n",
       "      <th>Item_Weight</th>\n",
       "      <th>Item_Fat_Content</th>\n",
       "      <th>Item_Visibility</th>\n",
       "      <th>Item_Type</th>\n",
       "      <th>Item_MRP</th>\n",
       "      <th>Outlet_Identifier</th>\n",
       "      <th>Outlet_Establishment_Year</th>\n",
       "      <th>Outlet_Size</th>\n",
       "      <th>Outlet_Location_Type</th>\n",
       "      <th>Outlet_Type</th>\n",
       "      <th>Item_Outlet_Sales</th>\n",
       "    </tr>\n",
       "  </thead>\n",
       "  <tbody>\n",
       "    <tr>\n",
       "      <th>0</th>\n",
       "      <td>FDA15</td>\n",
       "      <td>9.300</td>\n",
       "      <td>1</td>\n",
       "      <td>0.016047</td>\n",
       "      <td>4</td>\n",
       "      <td>249.8092</td>\n",
       "      <td>9</td>\n",
       "      <td>1999</td>\n",
       "      <td>1</td>\n",
       "      <td>0</td>\n",
       "      <td>1</td>\n",
       "      <td>3735.1380</td>\n",
       "    </tr>\n",
       "    <tr>\n",
       "      <th>1</th>\n",
       "      <td>DRC01</td>\n",
       "      <td>5.920</td>\n",
       "      <td>2</td>\n",
       "      <td>0.019278</td>\n",
       "      <td>14</td>\n",
       "      <td>48.2692</td>\n",
       "      <td>3</td>\n",
       "      <td>2009</td>\n",
       "      <td>1</td>\n",
       "      <td>2</td>\n",
       "      <td>2</td>\n",
       "      <td>443.4228</td>\n",
       "    </tr>\n",
       "    <tr>\n",
       "      <th>2</th>\n",
       "      <td>FDN15</td>\n",
       "      <td>17.500</td>\n",
       "      <td>1</td>\n",
       "      <td>0.016760</td>\n",
       "      <td>10</td>\n",
       "      <td>141.6180</td>\n",
       "      <td>9</td>\n",
       "      <td>1999</td>\n",
       "      <td>1</td>\n",
       "      <td>0</td>\n",
       "      <td>1</td>\n",
       "      <td>2097.2700</td>\n",
       "    </tr>\n",
       "    <tr>\n",
       "      <th>3</th>\n",
       "      <td>FDX07</td>\n",
       "      <td>19.200</td>\n",
       "      <td>2</td>\n",
       "      <td>0.015274</td>\n",
       "      <td>6</td>\n",
       "      <td>182.0950</td>\n",
       "      <td>0</td>\n",
       "      <td>1998</td>\n",
       "      <td>2</td>\n",
       "      <td>2</td>\n",
       "      <td>0</td>\n",
       "      <td>732.3800</td>\n",
       "    </tr>\n",
       "    <tr>\n",
       "      <th>4</th>\n",
       "      <td>NCD19</td>\n",
       "      <td>8.930</td>\n",
       "      <td>0</td>\n",
       "      <td>0.008082</td>\n",
       "      <td>9</td>\n",
       "      <td>53.8614</td>\n",
       "      <td>1</td>\n",
       "      <td>1987</td>\n",
       "      <td>0</td>\n",
       "      <td>2</td>\n",
       "      <td>1</td>\n",
       "      <td>994.7052</td>\n",
       "    </tr>\n",
       "    <tr>\n",
       "      <th>5</th>\n",
       "      <td>FDP36</td>\n",
       "      <td>10.395</td>\n",
       "      <td>2</td>\n",
       "      <td>0.060928</td>\n",
       "      <td>0</td>\n",
       "      <td>51.4008</td>\n",
       "      <td>3</td>\n",
       "      <td>2009</td>\n",
       "      <td>1</td>\n",
       "      <td>2</td>\n",
       "      <td>2</td>\n",
       "      <td>556.6088</td>\n",
       "    </tr>\n",
       "    <tr>\n",
       "      <th>6</th>\n",
       "      <td>FDO10</td>\n",
       "      <td>13.650</td>\n",
       "      <td>2</td>\n",
       "      <td>0.012741</td>\n",
       "      <td>13</td>\n",
       "      <td>57.6588</td>\n",
       "      <td>1</td>\n",
       "      <td>1987</td>\n",
       "      <td>0</td>\n",
       "      <td>2</td>\n",
       "      <td>1</td>\n",
       "      <td>343.5528</td>\n",
       "    </tr>\n",
       "    <tr>\n",
       "      <th>7</th>\n",
       "      <td>FDP10</td>\n",
       "      <td>19.000</td>\n",
       "      <td>1</td>\n",
       "      <td>0.127470</td>\n",
       "      <td>13</td>\n",
       "      <td>107.7622</td>\n",
       "      <td>5</td>\n",
       "      <td>1985</td>\n",
       "      <td>1</td>\n",
       "      <td>2</td>\n",
       "      <td>3</td>\n",
       "      <td>4022.7636</td>\n",
       "    </tr>\n",
       "    <tr>\n",
       "      <th>8</th>\n",
       "      <td>FDH17</td>\n",
       "      <td>16.200</td>\n",
       "      <td>2</td>\n",
       "      <td>0.016687</td>\n",
       "      <td>5</td>\n",
       "      <td>96.9726</td>\n",
       "      <td>7</td>\n",
       "      <td>2002</td>\n",
       "      <td>2</td>\n",
       "      <td>1</td>\n",
       "      <td>1</td>\n",
       "      <td>1076.5986</td>\n",
       "    </tr>\n",
       "    <tr>\n",
       "      <th>9</th>\n",
       "      <td>FDU28</td>\n",
       "      <td>19.200</td>\n",
       "      <td>2</td>\n",
       "      <td>0.094450</td>\n",
       "      <td>5</td>\n",
       "      <td>187.8214</td>\n",
       "      <td>2</td>\n",
       "      <td>2007</td>\n",
       "      <td>2</td>\n",
       "      <td>1</td>\n",
       "      <td>1</td>\n",
       "      <td>4710.5350</td>\n",
       "    </tr>\n",
       "  </tbody>\n",
       "</table>\n",
       "</div>"
      ],
      "text/plain": [
       "  Item_Identifier  Item_Weight  Item_Fat_Content  Item_Visibility  Item_Type  \\\n",
       "0           FDA15        9.300                 1         0.016047          4   \n",
       "1           DRC01        5.920                 2         0.019278         14   \n",
       "2           FDN15       17.500                 1         0.016760         10   \n",
       "3           FDX07       19.200                 2         0.015274          6   \n",
       "4           NCD19        8.930                 0         0.008082          9   \n",
       "5           FDP36       10.395                 2         0.060928          0   \n",
       "6           FDO10       13.650                 2         0.012741         13   \n",
       "7           FDP10       19.000                 1         0.127470         13   \n",
       "8           FDH17       16.200                 2         0.016687          5   \n",
       "9           FDU28       19.200                 2         0.094450          5   \n",
       "\n",
       "   Item_MRP  Outlet_Identifier  Outlet_Establishment_Year  Outlet_Size  \\\n",
       "0  249.8092                  9                       1999            1   \n",
       "1   48.2692                  3                       2009            1   \n",
       "2  141.6180                  9                       1999            1   \n",
       "3  182.0950                  0                       1998            2   \n",
       "4   53.8614                  1                       1987            0   \n",
       "5   51.4008                  3                       2009            1   \n",
       "6   57.6588                  1                       1987            0   \n",
       "7  107.7622                  5                       1985            1   \n",
       "8   96.9726                  7                       2002            2   \n",
       "9  187.8214                  2                       2007            2   \n",
       "\n",
       "   Outlet_Location_Type  Outlet_Type  Item_Outlet_Sales  \n",
       "0                     0            1          3735.1380  \n",
       "1                     2            2           443.4228  \n",
       "2                     0            1          2097.2700  \n",
       "3                     2            0           732.3800  \n",
       "4                     2            1           994.7052  \n",
       "5                     2            2           556.6088  \n",
       "6                     2            1           343.5528  \n",
       "7                     2            3          4022.7636  \n",
       "8                     1            1          1076.5986  \n",
       "9                     1            1          4710.5350  "
      ]
     },
     "execution_count": 46,
     "metadata": {},
     "output_type": "execute_result"
    }
   ],
   "source": [
    "from sklearn.preprocessing import LabelEncoder\n",
    "label_encoder = LabelEncoder()\n",
    "cols = ['Item_Fat_Content','Item_Type','Outlet_Identifier','Outlet_Size', 'Outlet_Location_Type','Outlet_Type']\n",
    "for col in cols:\n",
    "    df_train[col] = label_encoder.fit_transform(df_train[col])\n",
    "    df_test[col] = label_encoder.fit_transform(df_test[col])\n",
    "df_train.head(10)"
   ]
  },
  {
   "cell_type": "code",
   "execution_count": 47,
   "metadata": {},
   "outputs": [],
   "source": [
    "df_train.drop([\"Item_Identifier\",\"Outlet_Establishment_Year\"],inplace=True,axis=1)\n",
    "df_test.drop([\"Item_Identifier\",\"Outlet_Establishment_Year\"],inplace=True,axis=1)"
   ]
  },
  {
   "cell_type": "code",
   "execution_count": 48,
   "metadata": {},
   "outputs": [
    {
     "name": "stdout",
     "output_type": "stream",
     "text": [
      "(8523, 10)\n",
      "(5681, 9)\n"
     ]
    }
   ],
   "source": [
    "print(df_train.shape)\n",
    "print(df_test.shape)"
   ]
  },
  {
   "cell_type": "markdown",
   "metadata": {},
   "source": [
    "### MODEL BUILDING"
   ]
  },
  {
   "cell_type": "code",
   "execution_count": 49,
   "metadata": {},
   "outputs": [],
   "source": [
    "x = df_train.iloc[:,:-1]\n",
    "y = df_train.iloc[:,-1]"
   ]
  },
  {
   "cell_type": "code",
   "execution_count": 50,
   "metadata": {},
   "outputs": [],
   "source": [
    "from sklearn.linear_model import LinearRegression, Ridge\n",
    "from sklearn.tree import DecisionTreeRegressor\n",
    "from sklearn.ensemble import RandomForestRegressor\n",
    "models = {\n",
    "    \"Linear Regression\" : {'model':LinearRegression(),\n",
    "                           'params':{}\n",
    "                          }, \n",
    "    \"Ridge\" : {'model':Ridge(),\n",
    "               'params':{}\n",
    "              }, \n",
    "    \"Decision Tree\" : {'model':DecisionTreeRegressor(),\n",
    "                       'params':{'max_depth' : [5],\n",
    "                                 'min_samples_leaf' : [50,100,150,200]\n",
    "                                }\n",
    "                      },\n",
    "    \"Random Forest\" : {'model':RandomForestRegressor(),\n",
    "                       'params':{'n_estimators':[100,150],\n",
    "                                 'max_depth':[5,8], \n",
    "                                 'min_samples_leaf':[50,100,150],\n",
    "                                 'n_jobs':[3]\n",
    "                                }\n",
    "                      },\n",
    "}\n"
   ]
  },
  {
   "cell_type": "code",
   "execution_count": 51,
   "metadata": {},
   "outputs": [],
   "source": [
    "# from sklearn.model_selection import GridSearchCV\n",
    "# from sklearn.metrics import mean_squared_error\n",
    "# scores = []\n",
    "# for i,j in models.items():\n",
    "# #     predictions = j['model'].predict(x)\n",
    "#     grid = GridSearchCV(j['model'], j['params'], cv=30, scoring='neg_mean_squared_error')\n",
    "#     grid.fit(x,y)\n",
    "#     scores.append({\n",
    "#         'model': i,\n",
    "#         'best_score' : np.sqrt(np.abs(grid.best_score_)),\n",
    "#         'best_params' : grid.best_params_\n",
    "#     })\n",
    "#     print(i)\n",
    "#     print (\"RMSE : \", np.sqrt(mean_squared_error(y.values, predictions)))\n",
    "#     print (\"CV Score : Mean-\",np.mean(cv_score), \" Std-\",np.std(cv_score), \" Min-\", np.min(cv_score), \" Max-\",np.max(cv_score))\n",
    "#     print(\"----------------------------------------------------------------------------------------------------------------------\")\n",
    "#     print(j.fit(x,y))"
   ]
  },
  {
   "cell_type": "code",
   "execution_count": 52,
   "metadata": {},
   "outputs": [
    {
     "name": "stdout",
     "output_type": "stream",
     "text": [
      "Linear Regression\n",
      "RMSE :  1202.2330214011874\n",
      "CV Score : Mean- 1202.43039724591  Std- 55.57724172954861\n",
      "----------------------------------------------------------------------------------------------------------------------\n",
      "Ridge\n",
      "RMSE :  1202.2386611193597\n",
      "CV Score : Mean- 1202.432200682523  Std- 55.543374119726884\n",
      "----------------------------------------------------------------------------------------------------------------------\n",
      "Decision Tree\n",
      "RMSE :  0.0\n",
      "CV Score : Mean- 1543.3778850732663  Std- 91.20772752044265\n",
      "----------------------------------------------------------------------------------------------------------------------\n",
      "Random Forest\n",
      "RMSE :  424.71135608281895\n",
      "CV Score : Mean- 1138.2394066256022  Std- 55.579980722331925\n",
      "----------------------------------------------------------------------------------------------------------------------\n"
     ]
    }
   ],
   "source": [
    "from sklearn.model_selection import cross_val_score\n",
    "from sklearn.metrics import mean_squared_error\n",
    "\n",
    "for i,j in models.items():\n",
    "    j['model'].fit(x,y)\n",
    "    predictions = j['model'].predict(x)\n",
    "    score = cross_val_score(j['model'], x,y, cv=30, scoring='neg_mean_squared_error')\n",
    "    score = np.sqrt(np.abs(score))\n",
    "    print(i)\n",
    "    print (\"RMSE : \", np.sqrt(mean_squared_error(y.values, predictions)))\n",
    "    print (\"CV Score : Mean-\",np.mean(score), \" Std-\",np.std(score))\n",
    "    print(\"----------------------------------------------------------------------------------------------------------------------\")\n",
    "    "
   ]
  },
  {
   "cell_type": "code",
   "execution_count": 53,
   "metadata": {},
   "outputs": [
    {
     "name": "stdout",
     "output_type": "stream",
     "text": [
      "{'model': 'Decison tree', 'best_score': 1089.4555516444093, 'best_params': {'max_depth': 5, 'min_samples_leaf': 50}}\n"
     ]
    }
   ],
   "source": [
    "scores=[]\n",
    "from sklearn.model_selection import GridSearchCV\n",
    "grid = GridSearchCV(models['Decision Tree']['model'], models['Decision Tree']['params'], cv=30, scoring = 'neg_mean_squared_error')\n",
    "grid.fit(x,y)\n",
    "# scores.append\n",
    "print({\n",
    "    'model': 'Decison tree',\n",
    "    'best_score' : np.sqrt(np.abs(grid.best_score_)),\n",
    "#     grid.best_score_,\n",
    "    'best_params' : grid.best_params_\n",
    "})"
   ]
  },
  {
   "cell_type": "code",
   "execution_count": 54,
   "metadata": {},
   "outputs": [
    {
     "name": "stdout",
     "output_type": "stream",
     "text": [
      "{'model': 'Random Forest', 'best_score': 1079.9379008811813, 'best_params': {'max_depth': 8, 'min_samples_leaf': 50, 'n_estimators': 150, 'n_jobs': 3}}\n"
     ]
    }
   ],
   "source": [
    "grid = GridSearchCV(models['Random Forest']['model'], models['Random Forest']['params'], cv=30, scoring = 'neg_mean_squared_error')\n",
    "grid.fit(x,y)\n",
    "# scores.append\n",
    "print({\n",
    "    'model': 'Random Forest',\n",
    "    'best_score' : np.sqrt(np.abs(grid.best_score_)),\n",
    "#     grid.best_score_,\n",
    "    'best_params' : grid.best_params_\n",
    "})"
   ]
  },
  {
   "cell_type": "markdown",
   "metadata": {},
   "source": [
    "### RANDOM FOREST REGRESSOR IS THE MODEL WITH BEST RMSE AMONG THE OTHERS"
   ]
  },
  {
   "cell_type": "code",
   "execution_count": 55,
   "metadata": {},
   "outputs": [
    {
     "data": {
      "text/html": [
       "<div>\n",
       "<style scoped>\n",
       "    .dataframe tbody tr th:only-of-type {\n",
       "        vertical-align: middle;\n",
       "    }\n",
       "\n",
       "    .dataframe tbody tr th {\n",
       "        vertical-align: top;\n",
       "    }\n",
       "\n",
       "    .dataframe thead th {\n",
       "        text-align: right;\n",
       "    }\n",
       "</style>\n",
       "<table border=\"1\" class=\"dataframe\">\n",
       "  <thead>\n",
       "    <tr style=\"text-align: right;\">\n",
       "      <th></th>\n",
       "      <th>Item_Weight</th>\n",
       "      <th>Item_Fat_Content</th>\n",
       "      <th>Item_Visibility</th>\n",
       "      <th>Item_Type</th>\n",
       "      <th>Item_MRP</th>\n",
       "      <th>Outlet_Identifier</th>\n",
       "      <th>Outlet_Size</th>\n",
       "      <th>Outlet_Location_Type</th>\n",
       "      <th>Outlet_Type</th>\n",
       "      <th>Predicted</th>\n",
       "    </tr>\n",
       "  </thead>\n",
       "  <tbody>\n",
       "    <tr>\n",
       "      <th>0</th>\n",
       "      <td>20.750</td>\n",
       "      <td>1</td>\n",
       "      <td>0.007565</td>\n",
       "      <td>13</td>\n",
       "      <td>107.8622</td>\n",
       "      <td>9</td>\n",
       "      <td>1</td>\n",
       "      <td>0</td>\n",
       "      <td>1</td>\n",
       "      <td>1594.844219</td>\n",
       "    </tr>\n",
       "    <tr>\n",
       "      <th>1</th>\n",
       "      <td>8.300</td>\n",
       "      <td>2</td>\n",
       "      <td>0.038428</td>\n",
       "      <td>4</td>\n",
       "      <td>87.3198</td>\n",
       "      <td>2</td>\n",
       "      <td>2</td>\n",
       "      <td>1</td>\n",
       "      <td>1</td>\n",
       "      <td>1348.900387</td>\n",
       "    </tr>\n",
       "    <tr>\n",
       "      <th>2</th>\n",
       "      <td>14.600</td>\n",
       "      <td>0</td>\n",
       "      <td>0.099575</td>\n",
       "      <td>11</td>\n",
       "      <td>241.7538</td>\n",
       "      <td>0</td>\n",
       "      <td>2</td>\n",
       "      <td>2</td>\n",
       "      <td>0</td>\n",
       "      <td>608.104558</td>\n",
       "    </tr>\n",
       "    <tr>\n",
       "      <th>3</th>\n",
       "      <td>7.315</td>\n",
       "      <td>1</td>\n",
       "      <td>0.015388</td>\n",
       "      <td>13</td>\n",
       "      <td>155.0340</td>\n",
       "      <td>2</td>\n",
       "      <td>2</td>\n",
       "      <td>1</td>\n",
       "      <td>1</td>\n",
       "      <td>2394.185478</td>\n",
       "    </tr>\n",
       "    <tr>\n",
       "      <th>4</th>\n",
       "      <td>13.600</td>\n",
       "      <td>2</td>\n",
       "      <td>0.118599</td>\n",
       "      <td>4</td>\n",
       "      <td>234.2300</td>\n",
       "      <td>5</td>\n",
       "      <td>1</td>\n",
       "      <td>2</td>\n",
       "      <td>3</td>\n",
       "      <td>6170.460212</td>\n",
       "    </tr>\n",
       "    <tr>\n",
       "      <th>...</th>\n",
       "      <td>...</td>\n",
       "      <td>...</td>\n",
       "      <td>...</td>\n",
       "      <td>...</td>\n",
       "      <td>...</td>\n",
       "      <td>...</td>\n",
       "      <td>...</td>\n",
       "      <td>...</td>\n",
       "      <td>...</td>\n",
       "      <td>...</td>\n",
       "    </tr>\n",
       "    <tr>\n",
       "      <th>5676</th>\n",
       "      <td>10.500</td>\n",
       "      <td>2</td>\n",
       "      <td>0.013496</td>\n",
       "      <td>13</td>\n",
       "      <td>141.3154</td>\n",
       "      <td>8</td>\n",
       "      <td>2</td>\n",
       "      <td>0</td>\n",
       "      <td>1</td>\n",
       "      <td>2199.714052</td>\n",
       "    </tr>\n",
       "    <tr>\n",
       "      <th>5677</th>\n",
       "      <td>7.600</td>\n",
       "      <td>2</td>\n",
       "      <td>0.142991</td>\n",
       "      <td>15</td>\n",
       "      <td>169.1448</td>\n",
       "      <td>3</td>\n",
       "      <td>1</td>\n",
       "      <td>2</td>\n",
       "      <td>2</td>\n",
       "      <td>2698.717338</td>\n",
       "    </tr>\n",
       "    <tr>\n",
       "      <th>5678</th>\n",
       "      <td>10.000</td>\n",
       "      <td>1</td>\n",
       "      <td>0.073529</td>\n",
       "      <td>8</td>\n",
       "      <td>118.7440</td>\n",
       "      <td>7</td>\n",
       "      <td>2</td>\n",
       "      <td>1</td>\n",
       "      <td>1</td>\n",
       "      <td>1870.457135</td>\n",
       "    </tr>\n",
       "    <tr>\n",
       "      <th>5679</th>\n",
       "      <td>15.300</td>\n",
       "      <td>2</td>\n",
       "      <td>0.084783</td>\n",
       "      <td>3</td>\n",
       "      <td>214.6218</td>\n",
       "      <td>2</td>\n",
       "      <td>2</td>\n",
       "      <td>1</td>\n",
       "      <td>1</td>\n",
       "      <td>3554.696166</td>\n",
       "    </tr>\n",
       "    <tr>\n",
       "      <th>5680</th>\n",
       "      <td>9.500</td>\n",
       "      <td>2</td>\n",
       "      <td>0.104720</td>\n",
       "      <td>3</td>\n",
       "      <td>79.7960</td>\n",
       "      <td>7</td>\n",
       "      <td>2</td>\n",
       "      <td>1</td>\n",
       "      <td>1</td>\n",
       "      <td>1332.714851</td>\n",
       "    </tr>\n",
       "  </tbody>\n",
       "</table>\n",
       "<p>5681 rows × 10 columns</p>\n",
       "</div>"
      ],
      "text/plain": [
       "      Item_Weight  Item_Fat_Content  Item_Visibility  Item_Type  Item_MRP  \\\n",
       "0          20.750                 1         0.007565         13  107.8622   \n",
       "1           8.300                 2         0.038428          4   87.3198   \n",
       "2          14.600                 0         0.099575         11  241.7538   \n",
       "3           7.315                 1         0.015388         13  155.0340   \n",
       "4          13.600                 2         0.118599          4  234.2300   \n",
       "...           ...               ...              ...        ...       ...   \n",
       "5676       10.500                 2         0.013496         13  141.3154   \n",
       "5677        7.600                 2         0.142991         15  169.1448   \n",
       "5678       10.000                 1         0.073529          8  118.7440   \n",
       "5679       15.300                 2         0.084783          3  214.6218   \n",
       "5680        9.500                 2         0.104720          3   79.7960   \n",
       "\n",
       "      Outlet_Identifier  Outlet_Size  Outlet_Location_Type  Outlet_Type  \\\n",
       "0                     9            1                     0            1   \n",
       "1                     2            2                     1            1   \n",
       "2                     0            2                     2            0   \n",
       "3                     2            2                     1            1   \n",
       "4                     5            1                     2            3   \n",
       "...                 ...          ...                   ...          ...   \n",
       "5676                  8            2                     0            1   \n",
       "5677                  3            1                     2            2   \n",
       "5678                  7            2                     1            1   \n",
       "5679                  2            2                     1            1   \n",
       "5680                  7            2                     1            1   \n",
       "\n",
       "        Predicted  \n",
       "0     1594.844219  \n",
       "1     1348.900387  \n",
       "2      608.104558  \n",
       "3     2394.185478  \n",
       "4     6170.460212  \n",
       "...           ...  \n",
       "5676  2199.714052  \n",
       "5677  2698.717338  \n",
       "5678  1870.457135  \n",
       "5679  3554.696166  \n",
       "5680  1332.714851  \n",
       "\n",
       "[5681 rows x 10 columns]"
      ]
     },
     "execution_count": 55,
     "metadata": {},
     "output_type": "execute_result"
    }
   ],
   "source": [
    "random_forest = RandomForestRegressor(max_depth=8, min_samples_leaf=50, n_estimators=150, n_jobs=3)\n",
    "random_forest.fit(x,y)\n",
    "y_pred = random_forest.predict(df_test)\n",
    "df_test['Predicted'] = y_pred\n",
    "df_test"
   ]
  },
  {
   "cell_type": "code",
   "execution_count": 56,
   "metadata": {},
   "outputs": [],
   "source": [
    "df_test.to_csv(\"DataMart.csv\", index=False)"
   ]
  },
  {
   "cell_type": "code",
   "execution_count": 57,
   "metadata": {},
   "outputs": [
    {
     "data": {
      "text/plain": [
       "['Random_forest_datamart.pkl']"
      ]
     },
     "execution_count": 57,
     "metadata": {},
     "output_type": "execute_result"
    }
   ],
   "source": [
    "import joblib\n",
    "joblib.dump(random_forest,\"Random_forest_datamart.pkl\")"
   ]
  },
  {
   "cell_type": "code",
   "execution_count": null,
   "metadata": {},
   "outputs": [],
   "source": []
  }
 ],
 "metadata": {
  "kernelspec": {
   "display_name": "Python 3",
   "language": "python",
   "name": "python3"
  },
  "language_info": {
   "codemirror_mode": {
    "name": "ipython",
    "version": 3
   },
   "file_extension": ".py",
   "mimetype": "text/x-python",
   "name": "python",
   "nbconvert_exporter": "python",
   "pygments_lexer": "ipython3",
   "version": "3.7.6"
  }
 },
 "nbformat": 4,
 "nbformat_minor": 4
}
